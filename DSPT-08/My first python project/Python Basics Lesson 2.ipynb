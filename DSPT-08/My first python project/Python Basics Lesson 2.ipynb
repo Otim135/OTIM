{
 "cells": [
  {
   "cell_type": "code",
   "execution_count": 1,
   "id": "abb15f71",
   "metadata": {},
   "outputs": [
    {
     "data": {
      "text/plain": [
       "int"
      ]
     },
     "execution_count": 1,
     "metadata": {},
     "output_type": "execute_result"
    }
   ],
   "source": [
    "num=10\n",
    "type(num)"
   ]
  },
  {
   "cell_type": "code",
   "execution_count": 2,
   "id": "6d5a5500",
   "metadata": {},
   "outputs": [
    {
     "data": {
      "text/plain": [
       "'10'"
      ]
     },
     "execution_count": 2,
     "metadata": {},
     "output_type": "execute_result"
    }
   ],
   "source": [
    "num_str= str(num)\n",
    "num_str"
   ]
  },
  {
   "cell_type": "code",
   "execution_count": 3,
   "id": "7cc19624",
   "metadata": {},
   "outputs": [
    {
     "name": "stdout",
     "output_type": "stream",
     "text": [
      "<class 'str'>\n"
     ]
    }
   ],
   "source": [
    "print(type(num_str))"
   ]
  },
  {
   "cell_type": "code",
   "execution_count": 4,
   "id": "0f2890bc",
   "metadata": {},
   "outputs": [],
   "source": [
    "#adding two numbers\n",
    "x=6\n",
    "y=5"
   ]
  },
  {
   "cell_type": "code",
   "execution_count": 5,
   "id": "7a869556",
   "metadata": {},
   "outputs": [
    {
     "data": {
      "text/plain": [
       "11"
      ]
     },
     "execution_count": 5,
     "metadata": {},
     "output_type": "execute_result"
    }
   ],
   "source": [
    "#add 2 numbers\n",
    "x+y"
   ]
  },
  {
   "cell_type": "code",
   "execution_count": 8,
   "id": "ca7ef16f",
   "metadata": {},
   "outputs": [
    {
     "name": "stdout",
     "output_type": "stream",
     "text": [
      "enter number 1:6\n",
      "enter number 2:5\n",
      "11\n"
     ]
    }
   ],
   "source": [
    "#create numbers\n",
    "x=int(input(\"enter number 1:\"))\n",
    "y=int(input(\"enter number 2:\"))\n",
    "\n",
    "#add 2 numbers\n",
    "x= int(x)\n",
    "y= int(y)\n",
    "print(x+y)"
   ]
  },
  {
   "cell_type": "markdown",
   "id": "daba4439",
   "metadata": {},
   "source": [
    "##Strings"
   ]
  },
  {
   "cell_type": "code",
   "execution_count": 9,
   "id": "da339586",
   "metadata": {},
   "outputs": [],
   "source": [
    "#concat"
   ]
  },
  {
   "cell_type": "code",
   "execution_count": 11,
   "id": "bd858ca4",
   "metadata": {},
   "outputs": [
    {
     "name": "stdout",
     "output_type": "stream",
     "text": [
      "Alfred Ricky\n"
     ]
    }
   ],
   "source": [
    "print(\"Alfred\", end=\" \")\n",
    "print(\"Ricky\")"
   ]
  },
  {
   "cell_type": "code",
   "execution_count": 12,
   "id": "a66b65b6",
   "metadata": {},
   "outputs": [
    {
     "name": "stdout",
     "output_type": "stream",
     "text": [
      "Alfred Smith\n"
     ]
    }
   ],
   "source": [
    "print(\"Alfred\", \"Smith\")"
   ]
  },
  {
   "cell_type": "code",
   "execution_count": 15,
   "id": "9ed5d995",
   "metadata": {},
   "outputs": [
    {
     "name": "stdout",
     "output_type": "stream",
     "text": [
      "William Smith\n"
     ]
    }
   ],
   "source": [
    "print(\"William\" + \" \" \"Smith\")"
   ]
  },
  {
   "cell_type": "code",
   "execution_count": 16,
   "id": "ab2fb279",
   "metadata": {},
   "outputs": [
    {
     "name": "stdout",
     "output_type": "stream",
     "text": [
      "Enter your name: Alfred\n",
      "My name is Alfred\n"
     ]
    }
   ],
   "source": [
    "name=input(\"Enter your name: \")\n",
    "print(\"My name is \"+name)"
   ]
  },
  {
   "cell_type": "code",
   "execution_count": 17,
   "id": "33d577b3",
   "metadata": {},
   "outputs": [
    {
     "name": "stdout",
     "output_type": "stream",
     "text": [
      "Enter your name: Alfred\n",
      "My name is Alfred\n"
     ]
    }
   ],
   "source": [
    "name=input(\"Enter your name: \")\n",
    "print(f\"My name is {name}\")"
   ]
  },
  {
   "cell_type": "code",
   "execution_count": 18,
   "id": "f8febefc",
   "metadata": {},
   "outputs": [
    {
     "name": "stdout",
     "output_type": "stream",
     "text": [
      "enter your name: Alfred Ricky\n",
      "my name is Alfred\n"
     ]
    }
   ],
   "source": [
    "name=input(\"enter your name: \").strip().capitalize()\n",
    "first_name, last_name= name.split(\" \")\n",
    "print(f\"my name is {first_name}\")"
   ]
  },
  {
   "cell_type": "code",
   "execution_count": null,
   "id": "279d71e3",
   "metadata": {},
   "outputs": [],
   "source": []
  }
 ],
 "metadata": {
  "kernelspec": {
   "display_name": "Python 3 (ipykernel)",
   "language": "python",
   "name": "python3"
  },
  "language_info": {
   "codemirror_mode": {
    "name": "ipython",
    "version": 3
   },
   "file_extension": ".py",
   "mimetype": "text/x-python",
   "name": "python",
   "nbconvert_exporter": "python",
   "pygments_lexer": "ipython3",
   "version": "3.12.3"
  }
 },
 "nbformat": 4,
 "nbformat_minor": 5
}
