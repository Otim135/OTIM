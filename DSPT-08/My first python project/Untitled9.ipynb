{
 "cells": [
  {
   "cell_type": "code",
   "execution_count": null,
   "id": "bf19f67c",
   "metadata": {},
   "outputs": [],
   "source": [
    "# Define the list of playlist ratings\n",
    "PlayListRatings = [10, 9.5, 10, 8, 7.5, 5, 10, 10]\n",
    "\n",
    "# Initialize the index to 0\n",
    "index = 0\n",
    "\n",
    "# Start the while loop to iterate over the playlist ratings\n",
    "while index < len(PlayListRatings):\n",
    "    # Get the current rating from the list\n",
    "    rating = PlayListRatings[index]\n",
    "    \n",
    "    # If the rating is less than 6, exit the loop\n",
    "    if rating < 6:\n",
    "        break\n",
    "    \n",
    "    # Print the current rating\n",
    "    print(rating)\n",
    "    \n",
    "    # Move to the next rating in the list\n",
    "    index += 1\n"
   ]
  },
  {
   "cell_type": "code",
   "execution_count": null,
   "id": "81e88cc3",
   "metadata": {},
   "outputs": [],
   "source": []
  }
 ],
 "metadata": {
  "kernelspec": {
   "display_name": "Python 3 (ipykernel)",
   "language": "python",
   "name": "python3"
  },
  "language_info": {
   "codemirror_mode": {
    "name": "ipython",
    "version": 3
   },
   "file_extension": ".py",
   "mimetype": "text/x-python",
   "name": "python",
   "nbconvert_exporter": "python",
   "pygments_lexer": "ipython3",
   "version": "3.12.3"
  }
 },
 "nbformat": 4,
 "nbformat_minor": 5
}
