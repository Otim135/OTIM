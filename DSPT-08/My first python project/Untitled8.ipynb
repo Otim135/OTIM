{
 "cells": [
  {
   "cell_type": "markdown",
   "id": "fa9ee27c",
   "metadata": {},
   "source": [
    "## Calculating the Sum of Even & Odd Numbers in a List Using for and if-else"
   ]
  },
  {
   "cell_type": "code",
   "execution_count": 5,
   "id": "f2c3e651",
   "metadata": {},
   "outputs": [
    {
     "name": "stdout",
     "output_type": "stream",
     "text": [
      "Sum of even numbers: 30\n",
      "Sum of odd numbers: 25\n"
     ]
    }
   ],
   "source": [
    "#Example list of numbers\n",
    "numbers=[1,2,3,4,5,6,7,8,9,10]\n",
    "\n",
    "#Initialize sums for even and odd numbers\n",
    "sum_even=0\n",
    "sum_odd=0\n",
    "\n",
    "#Loop through each number in the list\n",
    "for number in numbers:\n",
    "    #Check if the number is even:\n",
    "    if number %2==0:\n",
    "        sum_even+=number #Add to even sum\n",
    "    else:\n",
    "        sum_odd+=number #Add to odd sum\n",
    "        \n",
    "#Print the sums\n",
    "print(f\"Sum of even numbers: {sum_even}\")\n",
    "print(f\"Sum of odd numbers: {sum_odd}\")"
   ]
  },
  {
   "cell_type": "markdown",
   "id": "8aefc70a",
   "metadata": {},
   "source": [
    "## Counting the Frequency of Words in a List Using for and if-else"
   ]
  },
  {
   "cell_type": "code",
   "execution_count": 7,
   "id": "2aac5b2b",
   "metadata": {},
   "outputs": [
    {
     "name": "stdout",
     "output_type": "stream",
     "text": [
      "Word:apple, Count:3\n",
      "Word:banana, Count:2\n",
      "Word:orange, Count:1\n"
     ]
    }
   ],
   "source": [
    "#Example of a list of words\n",
    "words=['apple','banana','apple','orange','banana', 'apple']\n",
    "\n",
    "#Dictionary to store the frequency of each word\n",
    "word_count={}\n",
    "\n",
    "#Loop through each word in the list\n",
    "for word in words:\n",
    "    #Check if the word is already in the dictionary\n",
    "    if word in word_count:\n",
    "        word_count[word]+=1 #Increment the count\n",
    "    else:\n",
    "        word_count[word]=1 #Initialize the count\n",
    "        \n",
    "#Print the word frequencies\n",
    "for word, count in word_count.items():\n",
    "    print(f\"Word:{word}, Count:{count}\")\n",
    "    "
   ]
  },
  {
   "cell_type": "code",
   "execution_count": null,
   "id": "2ae566db",
   "metadata": {},
   "outputs": [],
   "source": [
    "IIII\n",
    "VII=7\n",
    "XII=12\n",
    "M=1000\n",
    "SIX"
   ]
  }
 ],
 "metadata": {
  "kernelspec": {
   "display_name": "Python 3 (ipykernel)",
   "language": "python",
   "name": "python3"
  },
  "language_info": {
   "codemirror_mode": {
    "name": "ipython",
    "version": 3
   },
   "file_extension": ".py",
   "mimetype": "text/x-python",
   "name": "python",
   "nbconvert_exporter": "python",
   "pygments_lexer": "ipython3",
   "version": "3.12.3"
  }
 },
 "nbformat": 4,
 "nbformat_minor": 5
}
