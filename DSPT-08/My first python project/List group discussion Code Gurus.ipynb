{
 "cells": [
  {
   "cell_type": "code",
   "execution_count": 2,
   "id": "e3f4c80b",
   "metadata": {},
   "outputs": [
    {
     "name": "stdout",
     "output_type": "stream",
     "text": [
      "<class 'list'>\n",
      "['A', 'l', 'f', 'r', 'e', 'd']\n"
     ]
    }
   ],
   "source": [
    "x=[1,2,3,4,5,6]\n",
    "print(type(x))\n",
    "y='Alfred'\n",
    "print(list(y))"
   ]
  },
  {
   "cell_type": "markdown",
   "id": "65ac7f04",
   "metadata": {},
   "source": [
    "## Accessing Lists"
   ]
  },
  {
   "cell_type": "code",
   "execution_count": 6,
   "id": "9a01f584",
   "metadata": {},
   "outputs": [
    {
     "name": "stdout",
     "output_type": "stream",
     "text": [
      "Watermelon\n"
     ]
    }
   ],
   "source": [
    "fruits=['Apple', 'Mango','Watermelon', 'Orange']\n",
    "print(fruits[2])"
   ]
  },
  {
   "cell_type": "code",
   "execution_count": 7,
   "id": "e78bd394",
   "metadata": {},
   "outputs": [
    {
     "name": "stdout",
     "output_type": "stream",
     "text": [
      "Orange\n"
     ]
    }
   ],
   "source": [
    "#Negative indexing\n",
    "print(fruits[-1])"
   ]
  },
  {
   "cell_type": "code",
   "execution_count": 8,
   "id": "04448310",
   "metadata": {},
   "outputs": [
    {
     "name": "stdout",
     "output_type": "stream",
     "text": [
      "['Apple', 'Mango', 'Watermelon']\n"
     ]
    }
   ],
   "source": [
    "#Range\n",
    "print(fruits[:3])"
   ]
  },
  {
   "cell_type": "code",
   "execution_count": 9,
   "id": "7c2c7483",
   "metadata": {},
   "outputs": [
    {
     "name": "stdout",
     "output_type": "stream",
     "text": [
      "['Watermelon', 'Orange']\n"
     ]
    }
   ],
   "source": [
    "print(fruits[2:])"
   ]
  },
  {
   "cell_type": "code",
   "execution_count": 10,
   "id": "ffe56b4f",
   "metadata": {},
   "outputs": [
    {
     "name": "stdout",
     "output_type": "stream",
     "text": [
      "['Orange', 'Mango', 'Watermelon', 'Orange']\n"
     ]
    }
   ],
   "source": [
    "#Change Items\n",
    "fruits=['Apple', 'Mango','Watermelon', 'Orange']\n",
    "fruits[0]='Orange'\n",
    "print(fruits)"
   ]
  },
  {
   "cell_type": "code",
   "execution_count": null,
   "id": "5b1cb5dd",
   "metadata": {},
   "outputs": [],
   "source": []
  }
 ],
 "metadata": {
  "kernelspec": {
   "display_name": "Python 3 (ipykernel)",
   "language": "python",
   "name": "python3"
  },
  "language_info": {
   "codemirror_mode": {
    "name": "ipython",
    "version": 3
   },
   "file_extension": ".py",
   "mimetype": "text/x-python",
   "name": "python",
   "nbconvert_exporter": "python",
   "pygments_lexer": "ipython3",
   "version": "3.12.3"
  }
 },
 "nbformat": 4,
 "nbformat_minor": 5
}
