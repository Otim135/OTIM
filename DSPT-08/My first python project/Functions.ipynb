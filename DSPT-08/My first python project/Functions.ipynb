{
 "cells": [
  {
   "cell_type": "code",
   "execution_count": 1,
   "id": "a0003a73",
   "metadata": {},
   "outputs": [],
   "source": [
    "#create a function\n",
    "def do_something():\n",
    "    print(\"hello world\")"
   ]
  },
  {
   "cell_type": "code",
   "execution_count": 2,
   "id": "b76edce0",
   "metadata": {},
   "outputs": [
    {
     "name": "stdout",
     "output_type": "stream",
     "text": [
      "hello world\n"
     ]
    }
   ],
   "source": [
    "#calling a function\n",
    "do_something()"
   ]
  },
  {
   "cell_type": "code",
   "execution_count": 4,
   "id": "06dacb70",
   "metadata": {},
   "outputs": [],
   "source": [
    "def add_twonums():\n",
    "    add2= 5+8\n",
    "    return add2"
   ]
  },
  {
   "cell_type": "code",
   "execution_count": 6,
   "id": "f2efa303",
   "metadata": {},
   "outputs": [
    {
     "data": {
      "text/plain": [
       "19"
      ]
     },
     "execution_count": 6,
     "metadata": {},
     "output_type": "execute_result"
    }
   ],
   "source": [
    "add_twonums()+6"
   ]
  },
  {
   "cell_type": "code",
   "execution_count": 9,
   "id": "dc507781",
   "metadata": {},
   "outputs": [
    {
     "name": "stdout",
     "output_type": "stream",
     "text": [
      "13\n"
     ]
    },
    {
     "ename": "TypeError",
     "evalue": "unsupported operand type(s) for +: 'NoneType' and 'int'",
     "output_type": "error",
     "traceback": [
      "\u001b[1;31m---------------------------------------------------------------------------\u001b[0m",
      "\u001b[1;31mTypeError\u001b[0m                                 Traceback (most recent call last)",
      "Cell \u001b[1;32mIn[9], line 5\u001b[0m\n\u001b[0;32m      3\u001b[0m     add2\u001b[38;5;241m=\u001b[39m \u001b[38;5;241m5\u001b[39m\u001b[38;5;241m+\u001b[39m\u001b[38;5;241m8\u001b[39m\n\u001b[0;32m      4\u001b[0m     \u001b[38;5;28mprint\u001b[39m(add2)\n\u001b[1;32m----> 5\u001b[0m add_twonums()\u001b[38;5;241m+\u001b[39m\u001b[38;5;241m6\u001b[39m\n",
      "\u001b[1;31mTypeError\u001b[0m: unsupported operand type(s) for +: 'NoneType' and 'int'"
     ]
    }
   ],
   "source": [
    "#using print instead of return makes the function immutable\n",
    "def add_twonums():\n",
    "    add2= 5+8\n",
    "    print(add2)\n",
    "add_twonums()+6"
   ]
  },
  {
   "cell_type": "markdown",
   "id": "fafd8c58",
   "metadata": {},
   "source": [
    "Next Steps: Explain Error"
   ]
  },
  {
   "cell_type": "code",
   "execution_count": 10,
   "id": "8aa6d8d4",
   "metadata": {},
   "outputs": [],
   "source": [
    "def add_2nums():\n",
    "    num1=int(input(\"enter num1: \"))\n",
    "    num2=int(input(\"enter num2: \"))\n",
    "    return num1+num2"
   ]
  },
  {
   "cell_type": "code",
   "execution_count": 11,
   "id": "5a172f96",
   "metadata": {},
   "outputs": [
    {
     "name": "stdout",
     "output_type": "stream",
     "text": [
      "enter num1: 34\n",
      "enter num2: 34\n"
     ]
    },
    {
     "data": {
      "text/plain": [
       "68"
      ]
     },
     "execution_count": 11,
     "metadata": {},
     "output_type": "execute_result"
    }
   ],
   "source": [
    "add_2nums()"
   ]
  },
  {
   "cell_type": "markdown",
   "id": "6a284d06",
   "metadata": {},
   "source": [
    "## Arguments & Parameters"
   ]
  },
  {
   "cell_type": "code",
   "execution_count": 12,
   "id": "c439a549",
   "metadata": {},
   "outputs": [],
   "source": [
    "def add_twonums(num1,num2):\n",
    "    added=num1+num2\n",
    "    return added"
   ]
  },
  {
   "cell_type": "code",
   "execution_count": 13,
   "id": "c3c60def",
   "metadata": {},
   "outputs": [
    {
     "data": {
      "text/plain": [
       "80"
      ]
     },
     "execution_count": 13,
     "metadata": {},
     "output_type": "execute_result"
    }
   ],
   "source": [
    "add_twonums(25,55)"
   ]
  },
  {
   "cell_type": "code",
   "execution_count": 21,
   "id": "3a1666d4",
   "metadata": {},
   "outputs": [],
   "source": [
    "def add_twonums(*args):\n",
    "    added=sum(args)\n",
    "    return added"
   ]
  },
  {
   "cell_type": "code",
   "execution_count": 22,
   "id": "00a3917a",
   "metadata": {},
   "outputs": [],
   "source": [
    "def key_value(*kwargs):\n",
    "    extract=key_value.key()\n",
    "    return extract"
   ]
  },
  {
   "cell_type": "code",
   "execution_count": 23,
   "id": "a59c17f2",
   "metadata": {},
   "outputs": [],
   "source": [
    "name_age={\"John\":20,\"Alfred\":31, \"Hans\":27}"
   ]
  },
  {
   "cell_type": "code",
   "execution_count": 29,
   "id": "d31d533d",
   "metadata": {},
   "outputs": [
    {
     "name": "stdout",
     "output_type": "stream",
     "text": [
      "['John', 'Alfred', 'Hans']\n"
     ]
    }
   ],
   "source": [
    "def key_value(**kwargs):\n",
    "    # Extract keys from kwargs\n",
    "    keys = list(kwargs.keys())\n",
    "    return keys\n",
    "\n",
    "name_age = {\"John\": 20, \"Alfred\": 31, \"Hans\": 27}\n",
    "\n",
    "# Call the function with the dictionary unpacked as keyword arguments\n",
    "keys = key_value(**name_age)\n",
    "print(keys)"
   ]
  },
  {
   "cell_type": "markdown",
   "id": "6eb005f7",
   "metadata": {},
   "source": [
    "## Lambda function"
   ]
  },
  {
   "cell_type": "code",
   "execution_count": 30,
   "id": "2d810bcc",
   "metadata": {},
   "outputs": [
    {
     "name": "stdout",
     "output_type": "stream",
     "text": [
      "15\n"
     ]
    }
   ],
   "source": [
    "add_ten = lambda x: x + 10\n",
    "print(add_ten(5))  # Output: 15"
   ]
  },
  {
   "cell_type": "code",
   "execution_count": 31,
   "id": "c7581020",
   "metadata": {},
   "outputs": [
    {
     "name": "stdout",
     "output_type": "stream",
     "text": [
      "7\n"
     ]
    }
   ],
   "source": [
    "add = lambda x, y: x + y\n",
    "print(add(3, 4))  # Output: 7"
   ]
  },
  {
   "cell_type": "code",
   "execution_count": 32,
   "id": "b172c70e",
   "metadata": {},
   "outputs": [
    {
     "name": "stdout",
     "output_type": "stream",
     "text": [
      "[(3, 1), (1, 2), (2, 2), (5, 4)]\n"
     ]
    }
   ],
   "source": [
    "points = [(1, 2), (3, 1), (5, 4), (2, 2)]\n",
    "sorted_points = sorted(points, key=lambda x: x[1])\n",
    "print(sorted_points)  # Output: [(3, 1), (1, 2), (2, 2), (5, 4)]"
   ]
  },
  {
   "cell_type": "code",
   "execution_count": 33,
   "id": "b9dcd99e",
   "metadata": {},
   "outputs": [
    {
     "name": "stdout",
     "output_type": "stream",
     "text": [
      "[1, 4, 9, 16, 25]\n"
     ]
    }
   ],
   "source": [
    "numbers = [1, 2, 3, 4, 5]\n",
    "squared_numbers = list(map(lambda x: x**2, numbers))\n",
    "print(squared_numbers)  # Output: [1, 4, 9, 16, 25]"
   ]
  },
  {
   "cell_type": "code",
   "execution_count": 34,
   "id": "0a528de6",
   "metadata": {},
   "outputs": [
    {
     "name": "stdout",
     "output_type": "stream",
     "text": [
      "[1, 3, 5, 7]\n"
     ]
    }
   ],
   "source": [
    "numbers = [1, 2, 3, 4, 5, 6, 7, 8]\n",
    "odd_numbers = list(filter(lambda x: x % 2 != 0, numbers))\n",
    "print(odd_numbers)  # Output: [1, 3, 5, 7]"
   ]
  },
  {
   "cell_type": "code",
   "execution_count": 35,
   "id": "6888ca0e",
   "metadata": {},
   "outputs": [
    {
     "name": "stdout",
     "output_type": "stream",
     "text": [
      "120\n"
     ]
    }
   ],
   "source": [
    "from functools import reduce\n",
    "\n",
    "numbers = [1, 2, 3, 4, 5]\n",
    "product = reduce(lambda x, y: x * y, numbers)\n",
    "print(product)  # Output: 120"
   ]
  },
  {
   "cell_type": "code",
   "execution_count": 36,
   "id": "097bf9cf",
   "metadata": {},
   "outputs": [
    {
     "name": "stdout",
     "output_type": "stream",
     "text": [
      "10\n"
     ]
    }
   ],
   "source": [
    "max_number = lambda x, y: x if x > y else y\n",
    "print(max_number(5, 10))  # Output: 10"
   ]
  },
  {
   "cell_type": "code",
   "execution_count": 37,
   "id": "d6a29195",
   "metadata": {},
   "outputs": [
    {
     "name": "stdout",
     "output_type": "stream",
     "text": [
      "8\n",
      "2\n",
      "15\n",
      "1.6666666666666667\n"
     ]
    }
   ],
   "source": [
    "operations = {\n",
    "    'add': lambda x, y: x + y,\n",
    "    'subtract': lambda x, y: x - y,\n",
    "    'multiply': lambda x, y: x * y,\n",
    "    'divide': lambda x, y: x / y if y != 0 else 'undefined'\n",
    "}\n",
    "\n",
    "print(operations['add'](5, 3))      # Output: 8\n",
    "print(operations['subtract'](5, 3)) # Output: 2\n",
    "print(operations['multiply'](5, 3)) # Output: 15\n",
    "print(operations['divide'](5, 3))   # Output: 1.6666666666666667"
   ]
  },
  {
   "cell_type": "code",
   "execution_count": 39,
   "id": "136bd7b8",
   "metadata": {},
   "outputs": [
    {
     "name": "stdout",
     "output_type": "stream",
     "text": [
      "4 is even\n",
      "5 is odd\n",
      "8 is even\n",
      "23 is odd\n",
      "14 is even\n",
      "18 is even\n"
     ]
    }
   ],
   "source": [
    "listnums = [4, 5, 8, 23, 14, 18]\n",
    "\n",
    "for num in listnums:\n",
    "    if num % 2 == 0:\n",
    "        print(f\"{num} is even\")\n",
    "    else:\n",
    "        print(f\"{num} is odd\")"
   ]
  },
  {
   "cell_type": "code",
   "execution_count": 38,
   "id": "36579aea",
   "metadata": {},
   "outputs": [
    {
     "name": "stdout",
     "output_type": "stream",
     "text": [
      "4 is even\n",
      "8 is even\n",
      "14 is even\n",
      "18 is even\n"
     ]
    }
   ],
   "source": [
    "def print_even_numbers(numbers):\n",
    "    for num in numbers:\n",
    "        if num % 2 == 0:\n",
    "            print(f\"{num} is even\")\n",
    "\n",
    "listnums = [4, 5, 8, 23, 14, 18]\n",
    "print_even_numbers(listnums)"
   ]
  },
  {
   "cell_type": "code",
   "execution_count": 41,
   "id": "efbc60ce",
   "metadata": {},
   "outputs": [
    {
     "name": "stdout",
     "output_type": "stream",
     "text": [
      "[4, 8, 14, 18]\n"
     ]
    }
   ],
   "source": [
    "listnums = [4, 5, 8, 23, 14, 18]\n",
    "even_numbers = [num for num in listnums if num % 2 == 0]\n",
    "\n",
    "print(even_numbers)"
   ]
  },
  {
   "cell_type": "code",
   "execution_count": 42,
   "id": "f7e95d83",
   "metadata": {},
   "outputs": [
    {
     "name": "stdout",
     "output_type": "stream",
     "text": [
      "[4, 8, 14, 18]\n"
     ]
    }
   ],
   "source": [
    "listnums = [4, 5, 8, 23, 14, 18]\n",
    "even_numbers = list(filter(lambda x: x % 2 == 0, listnums))\n",
    "\n",
    "print(even_numbers)"
   ]
  },
  {
   "cell_type": "code",
   "execution_count": null,
   "id": "1221e733",
   "metadata": {},
   "outputs": [],
   "source": []
  }
 ],
 "metadata": {
  "kernelspec": {
   "display_name": "Python 3 (ipykernel)",
   "language": "python",
   "name": "python3"
  },
  "language_info": {
   "codemirror_mode": {
    "name": "ipython",
    "version": 3
   },
   "file_extension": ".py",
   "mimetype": "text/x-python",
   "name": "python",
   "nbconvert_exporter": "python",
   "pygments_lexer": "ipython3",
   "version": "3.12.3"
  }
 },
 "nbformat": 4,
 "nbformat_minor": 5
}
