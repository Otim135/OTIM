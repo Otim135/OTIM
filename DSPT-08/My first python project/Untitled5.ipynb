{
 "cells": [
  {
   "cell_type": "code",
   "execution_count": 2,
   "id": "d4d6599b",
   "metadata": {},
   "outputs": [
    {
     "name": "stdout",
     "output_type": "stream",
     "text": [
      "Name: Ronald, Score: 95, Grade: A\n",
      "Name: Lewis, Score: 60, Grade: D\n",
      "Name: Caroline, Score: 81, Grade: B\n"
     ]
    }
   ],
   "source": [
    "# Assuming the function 'assign_grade' is defined as follows\n",
    "def assign_grade(score):\n",
    "    if score >= 90:\n",
    "        return 'A'\n",
    "    elif score >= 80:\n",
    "        return 'B'\n",
    "    elif score >= 70:\n",
    "        return 'C'\n",
    "    elif score >= 60:\n",
    "        return 'D'\n",
    "    else:\n",
    "        return 'F'\n",
    "\n",
    "student_scores = [95, 60, 81]\n",
    "student_names = [\"Ronald\", \"Lewis\", \"Caroline\"]\n",
    "\n",
    "for name, score in zip(student_names, student_scores):\n",
    "    grade = assign_grade(score)\n",
    "    print(f\"Name: {name}, Score: {score}, Grade: {grade}\")\n"
   ]
  },
  {
   "cell_type": "code",
   "execution_count": 3,
   "id": "4f7a4ded",
   "metadata": {},
   "outputs": [
    {
     "name": "stdout",
     "output_type": "stream",
     "text": [
      "Name: Alice, Score: 95, Grade: A\n",
      "Name: Bob, Score: 60, Grade: D\n",
      "Name: Charlie, Score: 81, Grade: B\n"
     ]
    }
   ],
   "source": [
    "# Assuming the function 'assign_grade' is defined as follows\n",
    "def assign_grade(score):\n",
    "    if score >= 90:\n",
    "        return 'A'\n",
    "    elif score >= 80:\n",
    "        return 'B'\n",
    "    elif score >= 70:\n",
    "        return 'C'\n",
    "    elif score >= 60:\n",
    "        return 'D'\n",
    "    else:\n",
    "        return 'F'\n",
    "\n",
    "student_scores = [95, 60, 81]\n",
    "student_names = [\"Ronald\", \"Lewis\", \"Caroline\"]\n",
    "\n",
    "# Using index-based iteration\n",
    "for i in range(len(student_scores)):\n",
    "    name = student_names[i]\n",
    "    score = student_scores[i]\n",
    "    grade = assign_grade(score)\n",
    "    print(f\"Name: {name}, Score: {score}, Grade: {grade}\")\n"
   ]
  },
  {
   "cell_type": "code",
   "execution_count": null,
   "id": "36d0e8dc",
   "metadata": {},
   "outputs": [],
   "source": []
  }
 ],
 "metadata": {
  "kernelspec": {
   "display_name": "Python 3 (ipykernel)",
   "language": "python",
   "name": "python3"
  },
  "language_info": {
   "codemirror_mode": {
    "name": "ipython",
    "version": 3
   },
   "file_extension": ".py",
   "mimetype": "text/x-python",
   "name": "python",
   "nbconvert_exporter": "python",
   "pygments_lexer": "ipython3",
   "version": "3.12.3"
  }
 },
 "nbformat": 4,
 "nbformat_minor": 5
}
