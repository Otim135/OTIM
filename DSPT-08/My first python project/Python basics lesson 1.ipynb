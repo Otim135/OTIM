{
 "cells": [
  {
   "cell_type": "markdown",
   "id": "a668e77a",
   "metadata": {},
   "source": [
    "#  Python basics practice\n",
    "\n",
    "## a. Numerical Data Types"
   ]
  },
  {
   "cell_type": "code",
   "execution_count": 1,
   "id": "a6ecc9bf",
   "metadata": {},
   "outputs": [
    {
     "data": {
      "text/plain": [
       "4"
      ]
     },
     "execution_count": 1,
     "metadata": {},
     "output_type": "execute_result"
    }
   ],
   "source": [
    "4"
   ]
  },
  {
   "cell_type": "code",
   "execution_count": 2,
   "id": "0c0817d1",
   "metadata": {},
   "outputs": [
    {
     "data": {
      "text/plain": [
       "10.0"
      ]
     },
     "execution_count": 2,
     "metadata": {},
     "output_type": "execute_result"
    }
   ],
   "source": [
    "10.0"
   ]
  },
  {
   "cell_type": "code",
   "execution_count": 6,
   "id": "d7ebd048",
   "metadata": {},
   "outputs": [
    {
     "data": {
      "text/plain": [
       "int"
      ]
     },
     "execution_count": 6,
     "metadata": {},
     "output_type": "execute_result"
    }
   ],
   "source": [
    "#integer\n",
    "type(4)"
   ]
  },
  {
   "cell_type": "code",
   "execution_count": 7,
   "id": "7e915780",
   "metadata": {},
   "outputs": [
    {
     "data": {
      "text/plain": [
       "float"
      ]
     },
     "execution_count": 7,
     "metadata": {},
     "output_type": "execute_result"
    }
   ],
   "source": [
    "#float\n",
    "type(10.0)"
   ]
  },
  {
   "cell_type": "code",
   "execution_count": 1,
   "id": "853122f1",
   "metadata": {},
   "outputs": [
    {
     "data": {
      "text/plain": [
       "complex"
      ]
     },
     "execution_count": 1,
     "metadata": {},
     "output_type": "execute_result"
    }
   ],
   "source": [
    "#complex number\n",
    "type(3+4j)"
   ]
  },
  {
   "cell_type": "markdown",
   "id": "e9e37348",
   "metadata": {},
   "source": [
    "## b. String"
   ]
  },
  {
   "cell_type": "code",
   "execution_count": 10,
   "id": "19e4422e",
   "metadata": {},
   "outputs": [
    {
     "data": {
      "text/plain": [
       "str"
      ]
     },
     "execution_count": 10,
     "metadata": {},
     "output_type": "execute_result"
    }
   ],
   "source": [
    "type('Alfred')"
   ]
  },
  {
   "cell_type": "code",
   "execution_count": 11,
   "id": "77820667",
   "metadata": {},
   "outputs": [
    {
     "data": {
      "text/plain": [
       "str"
      ]
     },
     "execution_count": 11,
     "metadata": {},
     "output_type": "execute_result"
    }
   ],
   "source": [
    "type(\"\")"
   ]
  },
  {
   "cell_type": "code",
   "execution_count": 12,
   "id": "97f6cecf",
   "metadata": {},
   "outputs": [
    {
     "data": {
      "text/plain": [
       "str"
      ]
     },
     "execution_count": 12,
     "metadata": {},
     "output_type": "execute_result"
    }
   ],
   "source": [
    "type(\"10.0\")"
   ]
  },
  {
   "cell_type": "markdown",
   "id": "efaf34d8",
   "metadata": {},
   "source": [
    "## c. Boolean"
   ]
  },
  {
   "cell_type": "code",
   "execution_count": 13,
   "id": "2f96306c",
   "metadata": {},
   "outputs": [
    {
     "data": {
      "text/plain": [
       "bool"
      ]
     },
     "execution_count": 13,
     "metadata": {},
     "output_type": "execute_result"
    }
   ],
   "source": [
    "type(True)"
   ]
  },
  {
   "cell_type": "code",
   "execution_count": 14,
   "id": "fe3cf479",
   "metadata": {},
   "outputs": [
    {
     "data": {
      "text/plain": [
       "bool"
      ]
     },
     "execution_count": 14,
     "metadata": {},
     "output_type": "execute_result"
    }
   ],
   "source": [
    "type(False)"
   ]
  },
  {
   "cell_type": "markdown",
   "id": "9fb8d76b",
   "metadata": {},
   "source": [
    "## Variables"
   ]
  },
  {
   "cell_type": "markdown",
   "id": "dab45304",
   "metadata": {},
   "source": [
    "Variables in Python are used to store data that can be referenced and manipulated throughout a program. Here are some key reasons why we use variables:\n",
    "\n",
    "1. *Code Readability*: Variables allow you to use meaningful names to represent data, making your code easier to read and understand.\n",
    "2. *Data Management*: They enable you to store and manage data efficiently, allowing you to access and modify it as needed.\n",
    "3. *Reusability*: By storing data in variables, you can reuse the same values without needing to input them multiple times.\n",
    "4. *Abstraction*: Variables help abstract complex data or operations, simplifying the overall structure of your code.\n",
    "5. *Flexibility*: They allow your code to be more flexible and dynamic, adapting to different inputs and conditions.\n",
    "6. *Memory Management*: Python manages memory allocation and deallocation of variables, optimizing the use of resources.\n",
    "\n",
    "Overall, variables are fundamental to programming as they provide a way to store, reference, and manipulate data efficiently.\n",
    "Always note Variables cannot start with a number.We can only use an underscore."
   ]
  },
  {
   "cell_type": "code",
   "execution_count": 15,
   "id": "799baf93",
   "metadata": {},
   "outputs": [],
   "source": [
    "#variable 1\n",
    "num1=10"
   ]
  },
  {
   "cell_type": "code",
   "execution_count": 16,
   "id": "d3e4d084",
   "metadata": {},
   "outputs": [
    {
     "name": "stdout",
     "output_type": "stream",
     "text": [
      "10\n"
     ]
    }
   ],
   "source": [
    "print(num1)"
   ]
  },
  {
   "cell_type": "code",
   "execution_count": 17,
   "id": "f8337c34",
   "metadata": {},
   "outputs": [
    {
     "data": {
      "text/plain": [
       "int"
      ]
     },
     "execution_count": 17,
     "metadata": {},
     "output_type": "execute_result"
    }
   ],
   "source": [
    "type(num1)"
   ]
  },
  {
   "cell_type": "code",
   "execution_count": 18,
   "id": "65250f0e",
   "metadata": {},
   "outputs": [],
   "source": [
    "my_name=(\"Alfred\")"
   ]
  },
  {
   "cell_type": "code",
   "execution_count": 19,
   "id": "ae58eac4",
   "metadata": {},
   "outputs": [
    {
     "name": "stdout",
     "output_type": "stream",
     "text": [
      "Alfred\n"
     ]
    }
   ],
   "source": [
    "print(my_name)"
   ]
  },
  {
   "cell_type": "code",
   "execution_count": 22,
   "id": "0c57723f",
   "metadata": {},
   "outputs": [],
   "source": [
    "str1=\"AGE\"\n",
    "str2=\"Age\"\n",
    "str3=\"age\"\n",
    "str4= \"Age\""
   ]
  },
  {
   "cell_type": "code",
   "execution_count": 23,
   "id": "729e69f5",
   "metadata": {},
   "outputs": [
    {
     "data": {
      "text/plain": [
       "False"
      ]
     },
     "execution_count": 23,
     "metadata": {},
     "output_type": "execute_result"
    }
   ],
   "source": [
    "str1==str2"
   ]
  },
  {
   "cell_type": "code",
   "execution_count": 24,
   "id": "ad3b4c5e",
   "metadata": {},
   "outputs": [
    {
     "data": {
      "text/plain": [
       "True"
      ]
     },
     "execution_count": 24,
     "metadata": {},
     "output_type": "execute_result"
    }
   ],
   "source": [
    "str2==str4"
   ]
  },
  {
   "cell_type": "code",
   "execution_count": 25,
   "id": "4bee131b",
   "metadata": {},
   "outputs": [],
   "source": [
    "greetings=\"Hello World\""
   ]
  },
  {
   "cell_type": "code",
   "execution_count": 26,
   "id": "9b47b5ad",
   "metadata": {},
   "outputs": [
    {
     "name": "stdout",
     "output_type": "stream",
     "text": [
      "Hello World\n"
     ]
    }
   ],
   "source": [
    "print(greetings)"
   ]
  },
  {
   "cell_type": "code",
   "execution_count": 27,
   "id": "29822ad9",
   "metadata": {},
   "outputs": [],
   "source": [
    "num1a=str(num1)"
   ]
  },
  {
   "cell_type": "code",
   "execution_count": 28,
   "id": "f4bd6aaf",
   "metadata": {},
   "outputs": [
    {
     "data": {
      "text/plain": [
       "str"
      ]
     },
     "execution_count": 28,
     "metadata": {},
     "output_type": "execute_result"
    }
   ],
   "source": [
    "type(num1a)"
   ]
  },
  {
   "cell_type": "code",
   "execution_count": 30,
   "id": "c4c1876d",
   "metadata": {},
   "outputs": [],
   "source": [
    "num3=num1**2"
   ]
  },
  {
   "cell_type": "code",
   "execution_count": 31,
   "id": "106bba8d",
   "metadata": {},
   "outputs": [
    {
     "name": "stdout",
     "output_type": "stream",
     "text": [
      "100\n"
     ]
    }
   ],
   "source": [
    "print(num3)"
   ]
  },
  {
   "cell_type": "markdown",
   "id": "8f8e5bea",
   "metadata": {},
   "source": [
    "## Arithmetic Operations\n"
   ]
  },
  {
   "cell_type": "markdown",
   "id": "2a9cb78d",
   "metadata": {},
   "source": [
    "Python supports a variety of arithmetic operations, allowing you to perform mathematical computations easily. Here are the basic arithmetic operations in Python:\n",
    "\n",
    "1. **Addition (+): Adds two numbers.\n",
    "   python\n",
    "   result = 3 + 2  # result is 5\n",
    "   \n",
    "\n",
    "2. **Subtraction (-): Subtracts one number from another.\n",
    "   python\n",
    "   result = 5 - 3  # result is 2\n",
    "   \n",
    "\n",
    "3. **Multiplication (*): Multiplies two numbers.\n",
    "   python\n",
    "   result = 4 * 3  # result is 12\n",
    "   \n",
    "\n",
    "4. **Division (/): Divides one number by another, resulting in a float.\n",
    "   python\n",
    "   result = 10 / 2  # result is 5.0\n",
    "   \n",
    "\n",
    "5. **Floor Division (//): Divides one number by another, resulting in an integer (floored result).\n",
    "   python\n",
    "   result = 7 // 2  # result is 3\n",
    "   \n",
    "\n",
    "6. **Modulus (%): Returns the remainder of a division.\n",
    "   python\n",
    "   result = 7 % 3  # result is 1\n",
    "   \n",
    "\n",
    "7. **Exponentiation (**): Raises one number to the power of another.\n",
    "   python\n",
    "   result = 2 ** 3  # result is 8\n",
    "   \n",
    "\n",
    "### Example of Using These Operations Together\n",
    "python\n",
    "a = 10\n",
    "b = 3\n",
    "\n",
    "addition = a + b         # 13\n",
    "subtraction = a - b      # 7\n",
    "multiplication = a * b   # 30\n",
    "division = a / b         # 3.3333333333333335\n",
    "floor_division = a // b  # 3\n",
    "modulus = a % b          # 1\n",
    "exponentiation = a ** b  # 1000\n",
    "\n",
    "\n",
    "These operations can be used to perform complex calculations and are fundamental to programming in Python."
   ]
  },
  {
   "cell_type": "code",
   "execution_count": 32,
   "id": "8946c6c3",
   "metadata": {},
   "outputs": [],
   "source": [
    "#addition\n",
    "add2=num1+num3"
   ]
  },
  {
   "cell_type": "code",
   "execution_count": 33,
   "id": "09b97252",
   "metadata": {},
   "outputs": [
    {
     "name": "stdout",
     "output_type": "stream",
     "text": [
      "110\n"
     ]
    }
   ],
   "source": [
    "print(add2)"
   ]
  },
  {
   "cell_type": "code",
   "execution_count": 35,
   "id": "e5ac4009",
   "metadata": {},
   "outputs": [
    {
     "name": "stdout",
     "output_type": "stream",
     "text": [
      "20\n"
     ]
    }
   ],
   "source": [
    "#adding same variable\n",
    "addtwice=num1+num1\n",
    "print(addtwice)"
   ]
  },
  {
   "cell_type": "code",
   "execution_count": 36,
   "id": "85ec7210",
   "metadata": {},
   "outputs": [
    {
     "name": "stdout",
     "output_type": "stream",
     "text": [
      "90\n"
     ]
    }
   ],
   "source": [
    "#subtraction\n",
    "sub2=num3-num1\n",
    "print(sub2)"
   ]
  },
  {
   "cell_type": "code",
   "execution_count": 37,
   "id": "d1741836",
   "metadata": {},
   "outputs": [
    {
     "name": "stdout",
     "output_type": "stream",
     "text": [
      "100\n"
     ]
    }
   ],
   "source": [
    "sub2=add2-num1\n",
    "print(sub2)"
   ]
  },
  {
   "cell_type": "code",
   "execution_count": 38,
   "id": "cf6a0592",
   "metadata": {},
   "outputs": [],
   "source": [
    "#multiplication\n",
    "numa=21\n",
    "numb=5"
   ]
  },
  {
   "cell_type": "code",
   "execution_count": 39,
   "id": "22ea1571",
   "metadata": {},
   "outputs": [
    {
     "name": "stdout",
     "output_type": "stream",
     "text": [
      "105\n"
     ]
    }
   ],
   "source": [
    "mult2=numa*numb\n",
    "print(mult2)"
   ]
  },
  {
   "cell_type": "code",
   "execution_count": 40,
   "id": "d7b9c242",
   "metadata": {},
   "outputs": [
    {
     "name": "stdout",
     "output_type": "stream",
     "text": [
      "441\n"
     ]
    }
   ],
   "source": [
    "square2=numa**2\n",
    "print(square2)"
   ]
  },
  {
   "cell_type": "code",
   "execution_count": 41,
   "id": "469a35ac",
   "metadata": {},
   "outputs": [
    {
     "name": "stdout",
     "output_type": "stream",
     "text": [
      "1\n"
     ]
    }
   ],
   "source": [
    "#Modulus\n",
    "modulus2=numa % numb\n",
    "print(modulus2)"
   ]
  },
  {
   "cell_type": "markdown",
   "id": "0dcc2231",
   "metadata": {},
   "source": [
    "For Modulus, we've divided 21 by 5, the remainder is the modulus. Also indicates if the number is either even or odd."
   ]
  },
  {
   "cell_type": "code",
   "execution_count": 42,
   "id": "4ff9cbbf",
   "metadata": {},
   "outputs": [
    {
     "name": "stdout",
     "output_type": "stream",
     "text": [
      "0\n"
     ]
    }
   ],
   "source": [
    "modulus3=22 % 2\n",
    "print(modulus3)\n"
   ]
  },
  {
   "cell_type": "code",
   "execution_count": 43,
   "id": "d343750e",
   "metadata": {},
   "outputs": [],
   "source": [
    "#Concatenation\n",
    "first_name= \"Alfred\"\n",
    "second_name= \"Otieno\""
   ]
  },
  {
   "cell_type": "code",
   "execution_count": 44,
   "id": "0ec57e9c",
   "metadata": {},
   "outputs": [
    {
     "name": "stdout",
     "output_type": "stream",
     "text": [
      "Alfred Otieno\n"
     ]
    }
   ],
   "source": [
    "full_name= first_name + ' ' +second_name\n",
    "print(full_name)"
   ]
  },
  {
   "cell_type": "code",
   "execution_count": 46,
   "id": "52c39c8f",
   "metadata": {},
   "outputs": [
    {
     "name": "stdout",
     "output_type": "stream",
     "text": [
      "C:\\Users\\USER\\Desktop\\My first python project\n",
      "True\n"
     ]
    }
   ],
   "source": [
    "import datetime\n",
    "from collections import defaultdict, Counter\n",
    "import math\n",
    "import statistics\n",
    "import random\n",
    "import pickle\n",
    "import sqlite3\n",
    "import os\n",
    "import shutil\n",
    "from pathlib import Path\n",
    "\n",
    "# Example usage:\n",
    "# Datetime\n",
    "now = datetime.datetime.now()\n",
    "\n",
    "# Collections\n",
    "freq = Counter(['apple', 'banana', 'apple', 'orange'])\n",
    "\n",
    "# Math and Statistics\n",
    "result = math.sqrt(16)\n",
    "mean = statistics.mean([1, 2, 3, 4, 5])\n",
    "\n",
    "# Random\n",
    "random_num = random.randint(1, 10)\n",
    "\n",
    "# Pickle\n",
    "data = {'name': 'Alice', 'age': 25}\n",
    "with open('data.pkl', 'wb') as f:\n",
    "    pickle.dump(data, f)\n",
    "\n",
    "# SQLite3\n",
    "conn = sqlite3.connect('example.db')\n",
    "c = conn.cursor()\n",
    "c.execute('''CREATE TABLE IF NOT EXISTS users (id INTEGER PRIMARY KEY, name TEXT)''')\n",
    "conn.commit()\n",
    "conn.close()\n",
    "\n",
    "# OS, Shutil, Pathlib\n",
    "print(os.getcwd())\n",
    "shutil.copy('data.pkl', 'data_copy.pkl')\n",
    "path = Path('data_copy.pkl')\n",
    "print(path.exists())\n"
   ]
  },
  {
   "cell_type": "code",
   "execution_count": 47,
   "id": "1c048c93",
   "metadata": {},
   "outputs": [
    {
     "name": "stdout",
     "output_type": "stream",
     "text": [
      "Hello, World!\n"
     ]
    }
   ],
   "source": [
    "print(\"Hello, World!\")"
   ]
  },
  {
   "cell_type": "code",
   "execution_count": 48,
   "id": "3fa4056a",
   "metadata": {},
   "outputs": [
    {
     "name": "stdout",
     "output_type": "stream",
     "text": [
      "3\n"
     ]
    }
   ],
   "source": [
    "print(len([1, 2, 3]))  # Output: 3"
   ]
  },
  {
   "cell_type": "code",
   "execution_count": 49,
   "id": "8e7dea0b",
   "metadata": {},
   "outputs": [
    {
     "name": "stdout",
     "output_type": "stream",
     "text": [
      "0\n",
      "1\n",
      "2\n",
      "3\n",
      "4\n"
     ]
    }
   ],
   "source": [
    "for i in range(5):\n",
    "    print(i)"
   ]
  },
  {
   "cell_type": "code",
   "execution_count": 50,
   "id": "4a220bcb",
   "metadata": {},
   "outputs": [
    {
     "name": "stdout",
     "output_type": "stream",
     "text": [
      "0 a\n",
      "1 b\n",
      "2 c\n"
     ]
    }
   ],
   "source": [
    "for index, value in enumerate(['a', 'b', 'c']):\n",
    "    print(index, value)"
   ]
  },
  {
   "cell_type": "markdown",
   "id": "52e3991f",
   "metadata": {},
   "source": [
    "1. Built-in Functions\n",
    "Built-in functions are a fundamental part of Python. They are always available without needing to import any module.\n",
    "\n",
    "Key Functions to Focus On:\n",
    "print(): Outputs data to the console.\n",
    "python\n",
    "Copy code\n",
    "print(\"Hello, World!\")\n",
    "len(): Returns the length of an object.\n",
    "python\n",
    "Copy code\n",
    "print(len([1, 2, 3]))  # Output: 3\n",
    "range(): Generates a sequence of numbers.\n",
    "python\n",
    "Copy code\n",
    "for i in range(5):\n",
    "    print(i)\n",
    "enumerate(): Adds a counter to an iterable.\n",
    "python\n",
    "Copy code\n",
    "for index, value in enumerate(['a', 'b', 'c']):\n",
    "    print(index, value)"
   ]
  },
  {
   "cell_type": "code",
   "execution_count": 51,
   "id": "d5d04745",
   "metadata": {},
   "outputs": [
    {
     "name": "stdout",
     "output_type": "stream",
     "text": [
      "11 22\n"
     ]
    }
   ],
   "source": [
    "from collections import namedtuple\n",
    "Point = namedtuple('Point', ['x', 'y'])\n",
    "p = Point(11, 22)\n",
    "print(p.x, p.y)"
   ]
  },
  {
   "cell_type": "code",
   "execution_count": 52,
   "id": "7f6b41a9",
   "metadata": {},
   "outputs": [
    {
     "name": "stdout",
     "output_type": "stream",
     "text": [
      "deque([0, 1, 2, 3])\n"
     ]
    }
   ],
   "source": [
    "from collections import deque\n",
    "d = deque([1, 2, 3])\n",
    "d.appendleft(0)\n",
    "print(d)"
   ]
  },
  {
   "cell_type": "code",
   "execution_count": 2,
   "id": "3a6519cf",
   "metadata": {},
   "outputs": [
    {
     "name": "stdout",
     "output_type": "stream",
     "text": [
      "Ricky's World\n"
     ]
    }
   ],
   "source": [
    "message= 'Ricky\\'s World'\n",
    "print(message)"
   ]
  },
  {
   "cell_type": "code",
   "execution_count": 3,
   "id": "f075a2b1",
   "metadata": {},
   "outputs": [
    {
     "name": "stdout",
     "output_type": "stream",
     "text": [
      "Ricky's World\n"
     ]
    }
   ],
   "source": [
    "message=\"Ricky's World\"\n",
    "print(message)"
   ]
  },
  {
   "cell_type": "code",
   "execution_count": 7,
   "id": "32402af7",
   "metadata": {},
   "outputs": [
    {
     "name": "stdout",
     "output_type": "stream",
     "text": [
      "Bobby's World was the best cartoon network inthe 90s\n"
     ]
    }
   ],
   "source": [
    "message= '''Bobby's World was the best cartoon network inthe 90s'''\n",
    "print(message)"
   ]
  },
  {
   "cell_type": "code",
   "execution_count": 8,
   "id": "15c0d5aa",
   "metadata": {},
   "outputs": [
    {
     "name": "stdout",
     "output_type": "stream",
     "text": [
      "52\n"
     ]
    }
   ],
   "source": [
    "print(len(message))"
   ]
  },
  {
   "cell_type": "code",
   "execution_count": 9,
   "id": "4bccdd8c",
   "metadata": {},
   "outputs": [
    {
     "name": "stdout",
     "output_type": "stream",
     "text": [
      "B\n"
     ]
    }
   ],
   "source": [
    "print(message[0])"
   ]
  },
  {
   "cell_type": "code",
   "execution_count": 10,
   "id": "a6193764",
   "metadata": {},
   "outputs": [
    {
     "name": "stdout",
     "output_type": "stream",
     "text": [
      "Bobby'\n"
     ]
    }
   ],
   "source": [
    "print(message[0:6])"
   ]
  },
  {
   "cell_type": "code",
   "execution_count": 11,
   "id": "2845cc1e",
   "metadata": {},
   "outputs": [
    {
     "name": "stdout",
     "output_type": "stream",
     "text": [
      "Bobby's\n"
     ]
    }
   ],
   "source": [
    "print(message[:7])"
   ]
  },
  {
   "cell_type": "code",
   "execution_count": 12,
   "id": "e472d959",
   "metadata": {},
   "outputs": [
    {
     "name": "stdout",
     "output_type": "stream",
     "text": [
      "World was the best cartoon network inthe 90s\n"
     ]
    }
   ],
   "source": [
    "#slicing\n",
    "print(message[8:])"
   ]
  },
  {
   "cell_type": "code",
   "execution_count": null,
   "id": "c31bdfb9",
   "metadata": {},
   "outputs": [],
   "source": []
  }
 ],
 "metadata": {
  "kernelspec": {
   "display_name": "Python 3 (ipykernel)",
   "language": "python",
   "name": "python3"
  },
  "language_info": {
   "codemirror_mode": {
    "name": "ipython",
    "version": 3
   },
   "file_extension": ".py",
   "mimetype": "text/x-python",
   "name": "python",
   "nbconvert_exporter": "python",
   "pygments_lexer": "ipython3",
   "version": "3.12.3"
  }
 },
 "nbformat": 4,
 "nbformat_minor": 5
}
