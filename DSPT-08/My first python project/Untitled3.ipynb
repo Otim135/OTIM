{
 "cells": [
  {
   "cell_type": "markdown",
   "id": "e0591764",
   "metadata": {},
   "source": [
    "## Assignment"
   ]
  },
  {
   "cell_type": "code",
   "execution_count": 3,
   "id": "c97ec8ea",
   "metadata": {},
   "outputs": [],
   "source": [
    "def determine_grade(score):\n",
    "    \n",
    "    if score >= 81 and score <= 100:\n",
    "        return 'A'\n",
    "    elif score >= 71 and score <= 80:\n",
    "        return 'B'\n",
    "    elif score >= 61 and score <= 70:\n",
    "        return 'C'\n",
    "    elif score >= 51 and score <= 60:\n",
    "        return 'D'\n",
    "    else:\n",
    "        return 'E'"
   ]
  },
  {
   "cell_type": "code",
   "execution_count": 6,
   "id": "88b3d413",
   "metadata": {},
   "outputs": [
    {
     "name": "stdout",
     "output_type": "stream",
     "text": [
      "A\n"
     ]
    }
   ],
   "source": [
    "print(determine_grade(85))"
   ]
  },
  {
   "cell_type": "code",
   "execution_count": null,
   "id": "884d66b3",
   "metadata": {},
   "outputs": [],
   "source": []
  }
 ],
 "metadata": {
  "kernelspec": {
   "display_name": "Python 3 (ipykernel)",
   "language": "python",
   "name": "python3"
  },
  "language_info": {
   "codemirror_mode": {
    "name": "ipython",
    "version": 3
   },
   "file_extension": ".py",
   "mimetype": "text/x-python",
   "name": "python",
   "nbconvert_exporter": "python",
   "pygments_lexer": "ipython3",
   "version": "3.12.3"
  }
 },
 "nbformat": 4,
 "nbformat_minor": 5
}
