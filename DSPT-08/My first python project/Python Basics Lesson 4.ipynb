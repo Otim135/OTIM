{
 "cells": [
  {
   "cell_type": "markdown",
   "id": "5d39fe69",
   "metadata": {},
   "source": [
    "## Dictionaries"
   ]
  },
  {
   "cell_type": "code",
   "execution_count": 1,
   "id": "c759dba2",
   "metadata": {},
   "outputs": [
    {
     "data": {
      "text/plain": [
       "list"
      ]
     },
     "execution_count": 1,
     "metadata": {},
     "output_type": "execute_result"
    }
   ],
   "source": [
    "fruits=['Oranges', 'Apple', 'Banana']\n",
    "type(fruits)"
   ]
  },
  {
   "cell_type": "code",
   "execution_count": 2,
   "id": "3f51e048",
   "metadata": {},
   "outputs": [
    {
     "name": "stdout",
     "output_type": "stream",
     "text": [
      "['__add__', '__class__', '__class_getitem__', '__contains__', '__delattr__', '__delitem__', '__dir__', '__doc__', '__eq__', '__format__', '__ge__', '__getattribute__', '__getitem__', '__getstate__', '__gt__', '__hash__', '__iadd__', '__imul__', '__init__', '__init_subclass__', '__iter__', '__le__', '__len__', '__lt__', '__mul__', '__ne__', '__new__', '__reduce__', '__reduce_ex__', '__repr__', '__reversed__', '__rmul__', '__setattr__', '__setitem__', '__sizeof__', '__str__', '__subclasshook__', 'append', 'clear', 'copy', 'count', 'extend', 'index', 'insert', 'pop', 'remove', 'reverse', 'sort']\n"
     ]
    }
   ],
   "source": [
    "print(dir(fruits))"
   ]
  },
  {
   "cell_type": "code",
   "execution_count": 4,
   "id": "acd1a862",
   "metadata": {},
   "outputs": [
    {
     "name": "stdout",
     "output_type": "stream",
     "text": [
      "Help on built-in function index:\n",
      "\n",
      "index(value, start=0, stop=9223372036854775807, /) method of builtins.list instance\n",
      "    Return first index of value.\n",
      "\n",
      "    Raises ValueError if the value is not present.\n",
      "\n",
      "None\n"
     ]
    }
   ],
   "source": [
    "print(help(fruits.index))"
   ]
  },
  {
   "cell_type": "code",
   "execution_count": 5,
   "id": "c39ea771",
   "metadata": {},
   "outputs": [
    {
     "data": {
      "text/plain": [
       "dict"
      ]
     },
     "execution_count": 5,
     "metadata": {},
     "output_type": "execute_result"
    }
   ],
   "source": [
    "cities= {\"Kenya\":\"Nairobi\", \"Uganda\":\"Kampala\", \"Tanzania\":\"Dodoma\"}\n",
    "type(cities)"
   ]
  },
  {
   "cell_type": "code",
   "execution_count": 6,
   "id": "3eb51156",
   "metadata": {},
   "outputs": [
    {
     "name": "stdout",
     "output_type": "stream",
     "text": [
      "['__class__', '__class_getitem__', '__contains__', '__delattr__', '__delitem__', '__dir__', '__doc__', '__eq__', '__format__', '__ge__', '__getattribute__', '__getitem__', '__getstate__', '__gt__', '__hash__', '__init__', '__init_subclass__', '__ior__', '__iter__', '__le__', '__len__', '__lt__', '__ne__', '__new__', '__or__', '__reduce__', '__reduce_ex__', '__repr__', '__reversed__', '__ror__', '__setattr__', '__setitem__', '__sizeof__', '__str__', '__subclasshook__', 'clear', 'copy', 'fromkeys', 'get', 'items', 'keys', 'pop', 'popitem', 'setdefault', 'update', 'values']\n"
     ]
    }
   ],
   "source": [
    "print(dir(cities))"
   ]
  },
  {
   "cell_type": "code",
   "execution_count": 7,
   "id": "c35b2b1a",
   "metadata": {},
   "outputs": [
    {
     "name": "stdout",
     "output_type": "stream",
     "text": [
      "Help on built-in function keys:\n",
      "\n",
      "keys(...) method of builtins.dict instance\n",
      "    D.keys() -> a set-like object providing a view on D's keys\n",
      "\n",
      "None\n"
     ]
    }
   ],
   "source": [
    "print(help(cities.keys))"
   ]
  },
  {
   "cell_type": "code",
   "execution_count": 8,
   "id": "86ee97c4",
   "metadata": {},
   "outputs": [
    {
     "data": {
      "text/plain": [
       "dict_keys(['Kenya', 'Uganda', 'Tanzania'])"
      ]
     },
     "execution_count": 8,
     "metadata": {},
     "output_type": "execute_result"
    }
   ],
   "source": [
    "#get the keys\n",
    "cities.keys()"
   ]
  },
  {
   "cell_type": "code",
   "execution_count": 9,
   "id": "13cb59b9",
   "metadata": {},
   "outputs": [
    {
     "data": {
      "text/plain": [
       "dict_values(['Nairobi', 'Kampala', 'Dodoma'])"
      ]
     },
     "execution_count": 9,
     "metadata": {},
     "output_type": "execute_result"
    }
   ],
   "source": [
    "#get the values\n",
    "cities.values()"
   ]
  },
  {
   "cell_type": "code",
   "execution_count": 12,
   "id": "8ff0a0f6",
   "metadata": {},
   "outputs": [
    {
     "name": "stdout",
     "output_type": "stream",
     "text": [
      "dict_items([('Kenya', 'Nairobi'), ('Uganda', 'Kampala'), ('Tanzania', 'Dodoma')])\n"
     ]
    }
   ],
   "source": [
    "#get the Key value pairs\n",
    "cities.items()\n",
    "x= cities.items()\n",
    "print(x)"
   ]
  },
  {
   "cell_type": "code",
   "execution_count": 14,
   "id": "1cb988a6",
   "metadata": {},
   "outputs": [
    {
     "name": "stdout",
     "output_type": "stream",
     "text": [
      "{'Kenya': 'Nairobi', 'Uganda': 'Kampala', 'Tanzania': 'Dodoma', 'Germany': 'Berlin'}\n"
     ]
    }
   ],
   "source": [
    "#update(adding key value-Pair)\n",
    "cities.update({\"Germany\":\"Berlin\"})\n",
    "print(cities)"
   ]
  },
  {
   "cell_type": "code",
   "execution_count": 15,
   "id": "5983d40a",
   "metadata": {},
   "outputs": [
    {
     "data": {
      "text/plain": [
       "'Nairobi'"
      ]
     },
     "execution_count": 15,
     "metadata": {},
     "output_type": "execute_result"
    }
   ],
   "source": [
    "cities.pop(\"Kenya\")"
   ]
  },
  {
   "cell_type": "code",
   "execution_count": 19,
   "id": "1b3556f8",
   "metadata": {},
   "outputs": [
    {
     "data": {
      "text/plain": [
       "'Berlin'"
      ]
     },
     "execution_count": 19,
     "metadata": {},
     "output_type": "execute_result"
    }
   ],
   "source": [
    "cities[\"Germany\"]"
   ]
  },
  {
   "cell_type": "code",
   "execution_count": 22,
   "id": "8892b92f",
   "metadata": {},
   "outputs": [
    {
     "name": "stdout",
     "output_type": "stream",
     "text": [
      "{'Uganda': 'Kampala', 'Tanzania': 'Dodoma', 'Germany': 'Berlin'}\n"
     ]
    }
   ],
   "source": [
    "print(cities)"
   ]
  },
  {
   "cell_type": "markdown",
   "id": "3a624b99",
   "metadata": {},
   "source": [
    "## Conditions"
   ]
  },
  {
   "cell_type": "markdown",
   "id": "88ba0804",
   "metadata": {},
   "source": [
    "### IF ELSE Statement"
   ]
  },
  {
   "cell_type": "code",
   "execution_count": 25,
   "id": "f0778b87",
   "metadata": {},
   "outputs": [
    {
     "name": "stdout",
     "output_type": "stream",
     "text": [
      "70\n"
     ]
    }
   ],
   "source": [
    "x=40\n",
    "y=30\n",
    "if x>y:print(x+y)"
   ]
  },
  {
   "cell_type": "code",
   "execution_count": 26,
   "id": "0f2430e9",
   "metadata": {},
   "outputs": [
    {
     "name": "stdout",
     "output_type": "stream",
     "text": [
      "-10\n"
     ]
    }
   ],
   "source": [
    "x=20\n",
    "y=30\n",
    "if x<y:print(x-y)"
   ]
  },
  {
   "cell_type": "code",
   "execution_count": 27,
   "id": "7fb8ab0f",
   "metadata": {},
   "outputs": [
    {
     "name": "stdout",
     "output_type": "stream",
     "text": [
      "80\n"
     ]
    }
   ],
   "source": [
    "x=50\n",
    "y=30\n",
    "if x<y:print(x-y)\n",
    "elif x==y:print (x/y)\n",
    "else:print(x+y)"
   ]
  },
  {
   "cell_type": "code",
   "execution_count": 33,
   "id": "b9bdccc6",
   "metadata": {},
   "outputs": [
    {
     "name": "stdout",
     "output_type": "stream",
     "text": [
      "Enter x: 15\n",
      "Enter y: 14\n",
      "x is not equal to y\n"
     ]
    }
   ],
   "source": [
    "x= int(input(\"Enter x: \"))\n",
    "y= int(input(\"Enter y: \"))   \n",
    "if x==y:print(\"x is equal to y\")\n",
    "else:print(\"x is not equal to y\")"
   ]
  },
  {
   "cell_type": "code",
   "execution_count": null,
   "id": "4508c7e8",
   "metadata": {},
   "outputs": [],
   "source": []
  }
 ],
 "metadata": {
  "kernelspec": {
   "display_name": "Python 3 (ipykernel)",
   "language": "python",
   "name": "python3"
  },
  "language_info": {
   "codemirror_mode": {
    "name": "ipython",
    "version": 3
   },
   "file_extension": ".py",
   "mimetype": "text/x-python",
   "name": "python",
   "nbconvert_exporter": "python",
   "pygments_lexer": "ipython3",
   "version": "3.12.3"
  }
 },
 "nbformat": 4,
 "nbformat_minor": 5
}
