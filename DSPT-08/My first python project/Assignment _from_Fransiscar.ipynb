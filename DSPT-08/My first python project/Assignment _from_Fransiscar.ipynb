{
 "cells": [
  {
   "cell_type": "code",
   "execution_count": 1,
   "id": "d0e23f6c",
   "metadata": {},
   "outputs": [
    {
     "name": "stdout",
     "output_type": "stream",
     "text": [
      "Reversed list: [5, 3, 1]\n"
     ]
    }
   ],
   "source": [
    "# Create a list of numbers\n",
    "numbers = [1, 2, 3, 4, 5]\n",
    "\n",
    "# Reverse the order of elements using indexing method\n",
    "reversed_numbers = numbers[::-2]\n",
    "\n",
    "# Print the reversed list\n",
    "print(\"Reversed list:\", reversed_numbers)"
   ]
  },
  {
   "cell_type": "code",
   "execution_count": 2,
   "id": "61885fc1",
   "metadata": {},
   "outputs": [
    {
     "name": "stdout",
     "output_type": "stream",
     "text": [
      "[1, 2, 3, 10, 5, 6, 7]\n"
     ]
    }
   ],
   "source": [
    "s=[1,2,3,4,5,6,7]\n",
    "i=3\n",
    "x=10\n",
    "s[i]=x\n",
    "print(s)"
   ]
  },
  {
   "cell_type": "code",
   "execution_count": 2,
   "id": "6afa076b",
   "metadata": {},
   "outputs": [
    {
     "name": "stdout",
     "output_type": "stream",
     "text": [
      "List after insertion: [1, 2, 10, 3, 4, 5]\n"
     ]
    }
   ],
   "source": [
    "# Insert a new element at a specific position in the list\n",
    "def insert_element(lst, index, element):\n",
    "    return lst[:index] + [element] + lst[index:]\n",
    "\n",
    "# Example usage\n",
    "index_to_insert = 2\n",
    "element_to_insert = 10\n",
    "numbers = [1, 2, 3, 4, 5]\n",
    "numbers = insert_element(numbers, index_to_insert, element_to_insert)\n",
    "\n",
    "# Print the list after insertion\n",
    "print(\"List after insertion:\", numbers)"
   ]
  },
  {
   "cell_type": "code",
   "execution_count": 3,
   "id": "320395c7",
   "metadata": {},
   "outputs": [
    {
     "name": "stdout",
     "output_type": "stream",
     "text": [
      "Sum of elements: 15\n"
     ]
    }
   ],
   "source": [
    "# Find the sum of elements in a list\n",
    "def sum_of_elements(lst):\n",
    "    total = 0\n",
    "    for num in lst:\n",
    "        total += num\n",
    "    return total\n",
    "\n",
    "# Example usage\n",
    "numbers = [1, 2, 3, 4, 5]\n",
    "total_sum = sum_of_elements(numbers)\n",
    "\n",
    "# Print the sum of elements\n",
    "print(\"Sum of elements:\", total_sum)"
   ]
  },
  {
   "cell_type": "code",
   "execution_count": 4,
   "id": "9369d1ab",
   "metadata": {},
   "outputs": [
    {
     "name": "stdout",
     "output_type": "stream",
     "text": [
      "Range of the list: 4\n"
     ]
    }
   ],
   "source": [
    "# Find the range of the list (difference between largest and smallest element)\n",
    "def find_range(lst):\n",
    "    min_element = lst[0]\n",
    "    max_element = lst[0]\n",
    "    for num in lst:\n",
    "        if num < min_element:\n",
    "            min_element = num\n",
    "        if num > max_element:\n",
    "            max_element = num\n",
    "    return max_element - min_element\n",
    "\n",
    "# Example usage\n",
    "numbers = [1, 2, 3, 4, 5]\n",
    "range_of_list = find_range(numbers)\n",
    "\n",
    "# Print the range of the list\n",
    "print(\"Range of the list:\", range_of_list)"
   ]
  },
  {
   "cell_type": "code",
   "execution_count": 5,
   "id": "23729a3b",
   "metadata": {},
   "outputs": [
    {
     "name": "stdout",
     "output_type": "stream",
     "text": [
      "List after adding new values: [1, 2, 3, 4, 5, 6, 7, 8]\n"
     ]
    }
   ],
   "source": [
    "# Add 3 more values into the list\n",
    "def add_values(lst, values):\n",
    "    return lst + values\n",
    "\n",
    "# Example usage\n",
    "new_values = [6, 7, 8]\n",
    "numbers = [1, 2, 3, 4, 5]\n",
    "numbers = add_values(numbers, new_values)\n",
    "\n",
    "# Print the list after adding new values\n",
    "print(\"List after adding new values:\", numbers)"
   ]
  },
  {
   "cell_type": "code",
   "execution_count": 6,
   "id": "b912e197",
   "metadata": {},
   "outputs": [
    {
     "name": "stdout",
     "output_type": "stream",
     "text": [
      "Reversed list: [5, 4, 3, 2, 1]\n",
      "List after insertion: [1, 2, 10, 3, 4, 5]\n",
      "Sum of elements: 25\n",
      "Range of the list: 9\n",
      "List after adding new values: [1, 2, 10, 3, 4, 5, 6, 7, 8]\n"
     ]
    }
   ],
   "source": [
    "# Create a list of numbers\n",
    "numbers = [1, 2, 3, 4, 5]\n",
    "\n",
    "# 1. Reverse the order of elements without using built-in functions\n",
    "reversed_numbers = numbers[::-1]\n",
    "print(\"Reversed list:\", reversed_numbers)\n",
    "\n",
    "# 2. Insert a new element at a specific position\n",
    "def insert_element(lst, index, element):\n",
    "    return lst[:index] + [element] + lst[index:]\n",
    "\n",
    "index_to_insert = 2\n",
    "element_to_insert = 10\n",
    "numbers = insert_element(numbers, index_to_insert, element_to_insert)\n",
    "print(\"List after insertion:\", numbers)\n",
    "\n",
    "# 3. Find the sum of elements in a list\n",
    "def sum_of_elements(lst):\n",
    "    total = 0\n",
    "    for num in lst:\n",
    "        total += num\n",
    "    return total\n",
    "\n",
    "total_sum = sum_of_elements(numbers)\n",
    "print(\"Sum of elements:\", total_sum)\n",
    "\n",
    "# 4. Find the range (difference between largest and smallest element) of the list\n",
    "def find_range(lst):\n",
    "    min_element = lst[0]\n",
    "    max_element = lst[0]\n",
    "    for num in lst:\n",
    "        if num < min_element:\n",
    "            min_element = num\n",
    "        if num > max_element:\n",
    "            max_element = num\n",
    "    return max_element - min_element\n",
    "\n",
    "range_of_list = find_range(numbers)\n",
    "print(\"Range of the list:\", range_of_list)\n",
    "\n",
    "# 5. Add 3 more values into the list\n",
    "def add_values(lst, values):\n",
    "    return lst + values\n",
    "\n",
    "new_values = [6, 7, 8]\n",
    "numbers = add_values(numbers, new_values)\n",
    "print(\"List after adding new values:\", numbers)"
   ]
  }
 ],
 "metadata": {
  "kernelspec": {
   "display_name": "Python 3 (ipykernel)",
   "language": "python",
   "name": "python3"
  },
  "language_info": {
   "codemirror_mode": {
    "name": "ipython",
    "version": 3
   },
   "file_extension": ".py",
   "mimetype": "text/x-python",
   "name": "python",
   "nbconvert_exporter": "python",
   "pygments_lexer": "ipython3",
   "version": "3.12.3"
  }
 },
 "nbformat": 4,
 "nbformat_minor": 5
}
