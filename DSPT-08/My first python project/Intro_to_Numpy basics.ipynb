{
 "cells": [
  {
   "cell_type": "markdown",
   "id": "4b59ad92",
   "metadata": {},
   "source": [
    "## Numpy"
   ]
  },
  {
   "cell_type": "code",
   "execution_count": 1,
   "id": "d6de75fb",
   "metadata": {},
   "outputs": [],
   "source": [
    "import numpy as np"
   ]
  },
  {
   "cell_type": "markdown",
   "id": "d8d98e73",
   "metadata": {},
   "source": [
    "NumPy (Numerical Python) is a powerful library for numerical computing in Python. It provides support for large multi-dimensional arrays and matrices, along with a collection of mathematical functions to operate on these arrays efficiently. NumPy is widely used in scientific computing, data analysis, and machine learning due to its high performance and ease of use.\n",
    "\n",
    "Key features of NumPy include:\n",
    "\n",
    "- **ndarray**: A powerful N-dimensional array object which is the core of the NumPy library.\n",
    "- **Mathematical functions**: Comprehensive mathematical functions to operate on arrays and matrices.\n",
    "- **Linear algebra**: Tools for performing linear algebra operations.\n",
    "- **Random number generation**: Functions for generating random numbers.\n",
    "- **Integration with other libraries**: Compatibility with other scientific computing libraries like SciPy, Pandas, and Matplotlib.\n",
    "\n",
    "Here's an example of using NumPy to create an array and perform basic operations:\n",
    "\n",
    "```python\n",
    "import numpy as np\n",
    "\n",
    "# Create a 1D array\n",
    "arr = np.array([1, 2, 3, 4, 5])\n",
    "\n",
    "# Perform basic operations\n",
    "print(\"Array:\", arr)\n",
    "print(\"Sum:\", np.sum(arr))\n",
    "print(\"Mean:\", np.mean(arr))\n",
    "print(\"Standard Deviation:\", np.std(arr))\n",
    "```\n",
    "\n",
    "Output:\n",
    "\n",
    "```\n",
    "Array: [1 2 3 4 5]\n",
    "Sum: 15\n",
    "Mean: 3.0\n",
    "Standard Deviation: 1.4142135623730951\n",
    "```"
   ]
  },
  {
   "cell_type": "markdown",
   "id": "cb2273d1",
   "metadata": {},
   "source": [
    "## Creating arrays (1D, 2D, & 3D)"
   ]
  },
  {
   "cell_type": "code",
   "execution_count": 26,
   "id": "adeebe0a",
   "metadata": {},
   "outputs": [],
   "source": [
    "# Create a 1D array\n",
    "arr = np.array([1, 2, 3, 4, 5])"
   ]
  },
  {
   "cell_type": "code",
   "execution_count": 27,
   "id": "b9a39516",
   "metadata": {},
   "outputs": [
    {
     "data": {
      "text/plain": [
       "(5,)"
      ]
     },
     "execution_count": 27,
     "metadata": {},
     "output_type": "execute_result"
    }
   ],
   "source": [
    "arr.shape"
   ]
  },
  {
   "cell_type": "code",
   "execution_count": 28,
   "id": "d611e154",
   "metadata": {},
   "outputs": [
    {
     "data": {
      "text/plain": [
       "1"
      ]
     },
     "execution_count": 28,
     "metadata": {},
     "output_type": "execute_result"
    }
   ],
   "source": [
    "arr.ndim"
   ]
  },
  {
   "cell_type": "code",
   "execution_count": 13,
   "id": "c074c9c7",
   "metadata": {},
   "outputs": [
    {
     "name": "stdout",
     "output_type": "stream",
     "text": [
      "2D Array:\n",
      " [[1 2 3]\n",
      " [4 5 6]\n",
      " [7 8 9]]\n"
     ]
    }
   ],
   "source": [
    "import numpy as np\n",
    "\n",
    "# Create a 2D array\n",
    "arr_2d = np.array([[1, 2, 3], [4, 5, 6], [7, 8, 9]])\n",
    "print(\"2D Array:\\n\", arr_2d)"
   ]
  },
  {
   "cell_type": "code",
   "execution_count": 29,
   "id": "2f3c5f29",
   "metadata": {},
   "outputs": [
    {
     "data": {
      "text/plain": [
       "(3, 3)"
      ]
     },
     "execution_count": 29,
     "metadata": {},
     "output_type": "execute_result"
    }
   ],
   "source": [
    "#1st 3 is the number of rows, and the last\"3\" is the number of columns\n",
    "arr_2d.shape"
   ]
  },
  {
   "cell_type": "code",
   "execution_count": 30,
   "id": "3a0cc52b",
   "metadata": {},
   "outputs": [
    {
     "data": {
      "text/plain": [
       "2"
      ]
     },
     "execution_count": 30,
     "metadata": {},
     "output_type": "execute_result"
    }
   ],
   "source": [
    "arr_2d.ndim"
   ]
  },
  {
   "cell_type": "code",
   "execution_count": 16,
   "id": "37c0f603",
   "metadata": {},
   "outputs": [
    {
     "name": "stdout",
     "output_type": "stream",
     "text": [
      "3D Array:\n",
      " [[[ 1  2  3]\n",
      "  [ 4  5  6]]\n",
      "\n",
      " [[ 7  8  9]\n",
      "  [10 11 12]]\n",
      "\n",
      " [[13 14 15]\n",
      "  [16 17 18]]]\n"
     ]
    }
   ],
   "source": [
    "# Create a 3D array\n",
    "arr_3d = np.array([\n",
    "    [[1, 2, 3], [4, 5, 6]],\n",
    "    [[7, 8, 9], [10, 11, 12]],\n",
    "    [[13, 14, 15], [16, 17, 18]]\n",
    "])\n",
    "print(\"3D Array:\\n\", arr_3d)"
   ]
  },
  {
   "cell_type": "code",
   "execution_count": 21,
   "id": "1f3aa476",
   "metadata": {},
   "outputs": [
    {
     "data": {
      "text/plain": [
       "(3, 2, 3)"
      ]
     },
     "execution_count": 21,
     "metadata": {},
     "output_type": "execute_result"
    }
   ],
   "source": [
    "#1st \"3\" is the number of matrices, 2nd \"2\" is the number of rows in each matrix, while the last \"3\" is the number of columns in the matrices\n",
    "arr_3d.shape"
   ]
  },
  {
   "cell_type": "code",
   "execution_count": 22,
   "id": "c9d1fb87",
   "metadata": {},
   "outputs": [
    {
     "data": {
      "text/plain": [
       "3"
      ]
     },
     "execution_count": 22,
     "metadata": {},
     "output_type": "execute_result"
    }
   ],
   "source": [
    "arr_3d.ndim"
   ]
  },
  {
   "cell_type": "markdown",
   "id": "7128e620",
   "metadata": {},
   "source": [
    "## Accessing a single element in the different dimensions"
   ]
  },
  {
   "cell_type": "code",
   "execution_count": 17,
   "id": "2a7cf301",
   "metadata": {},
   "outputs": [
    {
     "name": "stdout",
     "output_type": "stream",
     "text": [
      "Element at (1, 0, 2): 9\n",
      "2D slice at index 0:\n",
      " [[1 2 3]\n",
      " [4 5 6]]\n",
      "First row across all layers:\n",
      " [[ 1  2  3]\n",
      " [ 7  8  9]\n",
      " [13 14 15]]\n",
      "Sub-array:\n",
      " [[[ 8  9]\n",
      "  [11 12]]\n",
      "\n",
      " [[14 15]\n",
      "  [17 18]]]\n"
     ]
    }
   ],
   "source": [
    "# Accessing a single element\n",
    "print(\"Element at (1, 0, 2):\", arr_3d[1, 0, 2])  # Output: 9\n",
    "\n",
    "# Accessing a 2D sub-array (a \"slice\" of the 3D array)\n",
    "print(\"2D slice at index 0:\\n\", arr_3d[0])  # Output: [[1 2 3] [4 5 6]]\n",
    "\n",
    "# Accessing a row across all layers\n",
    "print(\"First row across all layers:\\n\", arr_3d[:, 0, :])  # Output: [[ 1  2  3] [ 7  8  9] [13 14 15]]\n",
    "\n",
    "# Slicing\n",
    "print(\"Sub-array:\\n\", arr_3d[1:, :, 1:3])"
   ]
  },
  {
   "cell_type": "code",
   "execution_count": 14,
   "id": "27fc4604",
   "metadata": {},
   "outputs": [
    {
     "name": "stdout",
     "output_type": "stream",
     "text": [
      "Element at (0, 1): 2\n",
      "First row: [1 2 3]\n",
      "First column: [1 4 7]\n",
      "Sub-array:\n",
      " [[2 3]\n",
      " [5 6]]\n"
     ]
    }
   ],
   "source": [
    "# Accessing a single element\n",
    "print(\"Element at (0, 1):\", arr_2d[0, 1])  # Output: 2\n",
    "\n",
    "# Accessing a row\n",
    "print(\"First row:\", arr_2d[0])  # Output: [1 2 3]\n",
    "\n",
    "# Accessing a column\n",
    "print(\"First column:\", arr_2d[:, 0])  # Output: [1 4 7]\n",
    "\n",
    "# Slicing\n",
    "print(\"Sub-array:\\n\", arr_2d[0:2, 1:3])"
   ]
  },
  {
   "cell_type": "code",
   "execution_count": 18,
   "id": "e705bada",
   "metadata": {},
   "outputs": [
    {
     "name": "stdout",
     "output_type": "stream",
     "text": [
      "Element-wise Sum of 2D Arrays:\n",
      " [[11 13 15]\n",
      " [17 19 21]\n",
      " [23 25 27]]\n",
      "Matrix Multiplication of 2D Arrays:\n",
      " [[ 68  86 104]\n",
      " [167 212 257]\n",
      " [266 338 410]]\n"
     ]
    }
   ],
   "source": [
    "# Element-wise addition\n",
    "arr_2d_2 = np.array([[10, 11, 12], [13, 14, 15], [16, 17, 18]])\n",
    "sum_2d = arr_2d + arr_2d_2\n",
    "print(\"Element-wise Sum of 2D Arrays:\\n\", sum_2d)\n",
    "\n",
    "# Matrix multiplication\n",
    "matrix_mult_2d = np.dot(arr_2d, arr_2d_2.T)\n",
    "print(\"Matrix Multiplication of 2D Arrays:\\n\", matrix_mult_2d)"
   ]
  },
  {
   "cell_type": "code",
   "execution_count": 19,
   "id": "1a29991b",
   "metadata": {},
   "outputs": [
    {
     "name": "stdout",
     "output_type": "stream",
     "text": [
      "Element-wise Sum of 3D Arrays:\n",
      " [[[11 13 15]\n",
      "  [17 19 21]]\n",
      "\n",
      " [[23 25 27]\n",
      "  [29 31 33]]\n",
      "\n",
      " [[35 37 39]\n",
      "  [41 43 45]]]\n",
      "Sum along axis 0:\n",
      " [[21 24 27]\n",
      " [30 33 36]]\n"
     ]
    }
   ],
   "source": [
    "# Element-wise addition\n",
    "arr_3d_2 = np.array([\n",
    "    [[10, 11, 12], [13, 14, 15]],\n",
    "    [[16, 17, 18], [19, 20, 21]],\n",
    "    [[22, 23, 24], [25, 26, 27]]\n",
    "])\n",
    "sum_3d = arr_3d + arr_3d_2\n",
    "print(\"Element-wise Sum of 3D Arrays:\\n\", sum_3d)\n",
    "\n",
    "# Summing along an axis\n",
    "sum_along_axis = np.sum(arr_3d, axis=0)\n",
    "print(\"Sum along axis 0:\\n\", sum_along_axis)"
   ]
  },
  {
   "cell_type": "code",
   "execution_count": 3,
   "id": "7648ea7b",
   "metadata": {},
   "outputs": [
    {
     "name": "stdout",
     "output_type": "stream",
     "text": [
      "Array: [1 2 3 4 5]\n",
      "Sum: 15\n",
      "Mean: 3.0\n",
      "Standard Deviation: 1.4142135623730951\n"
     ]
    }
   ],
   "source": [
    "# Perform basic operations\n",
    "print(\"Array:\", arr)\n",
    "print(\"Sum:\", np.sum(arr))\n",
    "print(\"Mean:\", np.mean(arr))\n",
    "print(\"Standard Deviation:\", np.std(arr))"
   ]
  },
  {
   "cell_type": "code",
   "execution_count": 6,
   "id": "3aaadd06",
   "metadata": {},
   "outputs": [
    {
     "name": "stdout",
     "output_type": "stream",
     "text": [
      "1D Array: [1 2 3 4 5]\n",
      "2D Array:\n",
      " [[1 2 3]\n",
      " [4 5 6]]\n",
      "Zeros Array:\n",
      " [[0. 0. 0.]\n",
      " [0. 0. 0.]\n",
      " [0. 0. 0.]]\n",
      "Ones Array:\n",
      " [[1. 1. 1. 1.]\n",
      " [1. 1. 1. 1.]]\n",
      "Range Array: [10 11 12 13 14 15 16 17 18 19]\n",
      "Linspace Array: [0.   0.25 0.5  0.75 1.  ]\n"
     ]
    }
   ],
   "source": [
    "import numpy as np\n",
    "\n",
    "# Create a 1D array\n",
    "arr1 = np.array([1, 2, 3, 4, 5])\n",
    "\n",
    "# Create a 2D array\n",
    "arr2 = np.array([[1, 2, 3], [4, 5, 6]])\n",
    "\n",
    "# Create an array of zeros\n",
    "zeros = np.zeros((3, 3))\n",
    "\n",
    "# Create an array of ones\n",
    "ones = np.ones((2, 4))\n",
    "\n",
    "# Create an array with a range of values\n",
    "range_array = np.arange(10, 20)\n",
    "\n",
    "# Create an array with evenly spaced values\n",
    "linspace_array = np.linspace(0, 1, 5)\n",
    "\n",
    "print(\"1D Array:\", arr1)\n",
    "print(\"2D Array:\\n\", arr2)\n",
    "print(\"Zeros Array:\\n\", zeros)\n",
    "print(\"Ones Array:\\n\", ones)\n",
    "print(\"Range Array:\", range_array)\n",
    "print(\"Linspace Array:\", linspace_array)"
   ]
  },
  {
   "cell_type": "code",
   "execution_count": 7,
   "id": "c131078e",
   "metadata": {},
   "outputs": [
    {
     "name": "stdout",
     "output_type": "stream",
     "text": [
      "Original Array: [10 20 30 40]\n",
      "Add 5: [15 25 35 45]\n",
      "Multiply by 2: [20 40 60 80]\n",
      "Square Root: [3.16227766 4.47213595 5.47722558 6.32455532]\n",
      "Logarithm: [2.30258509 2.99573227 3.40119738 3.68887945]\n",
      "Sum: 100\n",
      "Mean: 25.0\n",
      "Standard Deviation: 11.180339887498949\n"
     ]
    }
   ],
   "source": [
    "# Element-wise operations\n",
    "arr = np.array([10, 20, 30, 40])\n",
    "print(\"Original Array:\", arr)\n",
    "print(\"Add 5:\", arr + 5)\n",
    "print(\"Multiply by 2:\", arr * 2)\n",
    "\n",
    "# Mathematical functions\n",
    "print(\"Square Root:\", np.sqrt(arr))\n",
    "print(\"Logarithm:\", np.log(arr))\n",
    "\n",
    "# Aggregate functions\n",
    "print(\"Sum:\", np.sum(arr))\n",
    "print(\"Mean:\", np.mean(arr))\n",
    "print(\"Standard Deviation:\", np.std(arr))"
   ]
  },
  {
   "cell_type": "code",
   "execution_count": 8,
   "id": "8d823a2b",
   "metadata": {},
   "outputs": [
    {
     "name": "stdout",
     "output_type": "stream",
     "text": [
      "Element at index 2: 3\n",
      "Elements from index 2 to 5: [3 4 5 6]\n",
      "Elements from start to index 3: [1 2 3 4]\n",
      "Elements from index 4 to end: [5 6 7 8 9]\n",
      "Every second element: [1 3 5 7 9]\n"
     ]
    }
   ],
   "source": [
    "arr = np.array([1, 2, 3, 4, 5, 6, 7, 8, 9])\n",
    "\n",
    "# Indexing\n",
    "print(\"Element at index 2:\", arr[2])\n",
    "\n",
    "# Slicing\n",
    "print(\"Elements from index 2 to 5:\", arr[2:6])\n",
    "print(\"Elements from start to index 3:\", arr[:4])\n",
    "print(\"Elements from index 4 to end:\", arr[4:])\n",
    "print(\"Every second element:\", arr[::2])"
   ]
  },
  {
   "cell_type": "code",
   "execution_count": 9,
   "id": "a04fedb6",
   "metadata": {},
   "outputs": [
    {
     "name": "stdout",
     "output_type": "stream",
     "text": [
      "Reshaped Array:\n",
      " [[1 2 3 4 5 6 7 8 9]]\n",
      "Transposed Array:\n",
      " [[1 4 7]\n",
      " [2 5 8]\n",
      " [3 6 9]]\n"
     ]
    }
   ],
   "source": [
    "arr = np.array([[1, 2, 3], [4, 5, 6], [7, 8, 9]])\n",
    "\n",
    "# Reshape\n",
    "reshaped = arr.reshape((1, 9))\n",
    "print(\"Reshaped Array:\\n\", reshaped)\n",
    "\n",
    "# Transpose\n",
    "transposed = arr.T\n",
    "print(\"Transposed Array:\\n\", transposed)"
   ]
  },
  {
   "cell_type": "code",
   "execution_count": 10,
   "id": "ccea4c44",
   "metadata": {},
   "outputs": [
    {
     "name": "stdout",
     "output_type": "stream",
     "text": [
      "Minimum: 1\n",
      "Maximum: 9\n",
      "Median: 5.0\n",
      "Variance: 6.666666666666667\n"
     ]
    }
   ],
   "source": [
    "arr = np.array([1, 2, 3, 4, 5, 6, 7, 8, 9])\n",
    "\n",
    "print(\"Minimum:\", np.min(arr))\n",
    "print(\"Maximum:\", np.max(arr))\n",
    "print(\"Median:\", np.median(arr))\n",
    "print(\"Variance:\", np.var(arr))"
   ]
  },
  {
   "cell_type": "code",
   "execution_count": 11,
   "id": "97b3a440",
   "metadata": {},
   "outputs": [
    {
     "name": "stdout",
     "output_type": "stream",
     "text": [
      "Random Integers: [7 1 4 5 5]\n",
      "Random Floats: [0.60090906 0.82038451 0.85250323 0.06615651 0.80623237]\n",
      "Normally Distributed Random Numbers: [ 0.04388763  0.7555332  -0.16400168  1.01281475 -2.54065459]\n"
     ]
    }
   ],
   "source": [
    "# Random integers between 0 and 10\n",
    "random_ints = np.random.randint(0, 10, size=5)\n",
    "\n",
    "# Random floats between 0 and 1\n",
    "random_floats = np.random.random(size=5)\n",
    "\n",
    "# Normally distributed random numbers\n",
    "normal_dist = np.random.normal(loc=0, scale=1, size=5)\n",
    "\n",
    "print(\"Random Integers:\", random_ints)\n",
    "print(\"Random Floats:\", random_floats)\n",
    "print(\"Normally Distributed Random Numbers:\", normal_dist)"
   ]
  },
  {
   "cell_type": "code",
   "execution_count": 12,
   "id": "60f687d5",
   "metadata": {},
   "outputs": [
    {
     "name": "stdout",
     "output_type": "stream",
     "text": [
      "Dot Product: 11\n",
      "Matrix Product:\n",
      " [[19 22]\n",
      " [43 50]]\n",
      "Determinant: -2.0000000000000004\n",
      "Inverse:\n",
      " [[-2.   1. ]\n",
      " [ 1.5 -0.5]]\n"
     ]
    }
   ],
   "source": [
    "# Dot product of two vectors\n",
    "a = np.array([1, 2])\n",
    "b = np.array([3, 4])\n",
    "dot_product = np.dot(a, b)\n",
    "print(\"Dot Product:\", dot_product)\n",
    "\n",
    "# Matrix multiplication\n",
    "A = np.array([[1, 2], [3, 4]])\n",
    "B = np.array([[5, 6], [7, 8]])\n",
    "matrix_product = np.dot(A, B)\n",
    "print(\"Matrix Product:\\n\", matrix_product)\n",
    "\n",
    "# Determinant of a matrix\n",
    "determinant = np.linalg.det(A)\n",
    "print(\"Determinant:\", determinant)\n",
    "\n",
    "# Inverse of a matrix\n",
    "inverse = np.linalg.inv(A)\n",
    "print(\"Inverse:\\n\", inverse)"
   ]
  },
  {
   "cell_type": "code",
   "execution_count": null,
   "id": "eb62fb53",
   "metadata": {},
   "outputs": [],
   "source": []
  }
 ],
 "metadata": {
  "kernelspec": {
   "display_name": "Python 3 (ipykernel)",
   "language": "python",
   "name": "python3"
  },
  "language_info": {
   "codemirror_mode": {
    "name": "ipython",
    "version": 3
   },
   "file_extension": ".py",
   "mimetype": "text/x-python",
   "name": "python",
   "nbconvert_exporter": "python",
   "pygments_lexer": "ipython3",
   "version": "3.12.3"
  }
 },
 "nbformat": 4,
 "nbformat_minor": 5
}
