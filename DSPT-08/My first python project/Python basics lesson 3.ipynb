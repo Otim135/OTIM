{
 "cells": [
  {
   "cell_type": "code",
   "execution_count": 3,
   "id": "62e60fde-b670-4e08-a747-2be192628602",
   "metadata": {},
   "outputs": [
    {
     "name": "stdout",
     "output_type": "stream",
     "text": [
      "0.1234\n",
      "0.12\n"
     ]
    }
   ],
   "source": [
    "#rounding to the preferred decimal point\n",
    "#round()\n",
    "a=0.1234\n",
    "print(f\"{a}\")\n",
    "print(f\"{a:.2}\")"
   ]
  },
  {
   "cell_type": "code",
   "execution_count": 8,
   "id": "05b24cc6-0a41-4811-aa23-680defcf12f4",
   "metadata": {},
   "outputs": [
    {
     "name": "stdout",
     "output_type": "stream",
     "text": [
      "0.625\n",
      "0.62\n"
     ]
    }
   ],
   "source": [
    "x= 5\n",
    "y= 8\n",
    "z= x/y\n",
    "print(z)\n",
    "print(f\"{z:.2}\")"
   ]
  },
  {
   "cell_type": "code",
   "execution_count": 9,
   "id": "916bbbec-c803-43c7-b811-b86fde133316",
   "metadata": {},
   "outputs": [
    {
     "name": "stdout",
     "output_type": "stream",
     "text": [
      "non\n"
     ]
    }
   ],
   "source": [
    "#replace\n",
    "b= \"?\"\n",
    "b= b.replace(\"?\",\"non\")\n",
    "print(b)"
   ]
  },
  {
   "cell_type": "markdown",
   "id": "674455e2-bb34-4a20-b53e-fffa8fc6f00a",
   "metadata": {},
   "source": [
    "## Lists"
   ]
  },
  {
   "cell_type": "code",
   "execution_count": 10,
   "id": "048f54c9-4991-4d66-96ea-754b7f99ac03",
   "metadata": {},
   "outputs": [],
   "source": [
    "#list is a collection of items in an enclosed square brackets and separated with commas[].The elements can be of any data type. The elements are ordered, mutable(can be changed), allows duplicates and can have mixed data types."
   ]
  },
  {
   "cell_type": "code",
   "execution_count": 11,
   "id": "c8d63696-0d5c-4b8f-8034-d3c1fb1ca828",
   "metadata": {},
   "outputs": [
    {
     "data": {
      "text/plain": [
       "list"
      ]
     },
     "execution_count": 11,
     "metadata": {},
     "output_type": "execute_result"
    }
   ],
   "source": [
    "list1=[1,2,3,4,5]\n",
    "list2=[\"Alfred\", \"Ricky\", \"Otieno\"]\n",
    "type(list2)\n"
   ]
  },
  {
   "cell_type": "code",
   "execution_count": 12,
   "id": "254535fd-0bfd-4e04-a875-0fd9af54b9bb",
   "metadata": {},
   "outputs": [
    {
     "data": {
      "text/plain": [
       "[1, 2, 3, 4]"
      ]
     },
     "execution_count": 12,
     "metadata": {},
     "output_type": "execute_result"
    }
   ],
   "source": [
    "list1[:4]"
   ]
  },
  {
   "cell_type": "code",
   "execution_count": 13,
   "id": "32aca34a-d76f-4de4-8dea-deeb113e32b8",
   "metadata": {},
   "outputs": [
    {
     "data": {
      "text/plain": [
       "4"
      ]
     },
     "execution_count": 13,
     "metadata": {},
     "output_type": "execute_result"
    }
   ],
   "source": [
    "list1[3]"
   ]
  },
  {
   "cell_type": "code",
   "execution_count": 14,
   "id": "a76b84d2-d031-49fe-ba29-181621fda8f4",
   "metadata": {},
   "outputs": [
    {
     "data": {
      "text/plain": [
       "[2, 3]"
      ]
     },
     "execution_count": 14,
     "metadata": {},
     "output_type": "execute_result"
    }
   ],
   "source": [
    "#selecting 2 and 3\n",
    "#For slicing, the last index will not be captured, just the first index.\n",
    "list1[1:3]"
   ]
  },
  {
   "cell_type": "code",
   "execution_count": 18,
   "id": "74f694dc-f8ad-41fa-a5f7-495644c0b498",
   "metadata": {},
   "outputs": [
    {
     "data": {
      "text/plain": [
       "['Alfred', 'Otieno']"
      ]
     },
     "execution_count": 18,
     "metadata": {},
     "output_type": "execute_result"
    }
   ],
   "source": [
    "list2[0::2]"
   ]
  },
  {
   "cell_type": "code",
   "execution_count": 19,
   "id": "5a0fc129-e6fe-4e12-a39b-fe55df67253c",
   "metadata": {},
   "outputs": [],
   "source": [
    "list3=[['Alfred', 'Ricky','Otieno','Peter'], [1,2,3,4,5]]"
   ]
  },
  {
   "cell_type": "code",
   "execution_count": 20,
   "id": "d94f655e-b552-41cf-83b5-33d203fc9d9d",
   "metadata": {},
   "outputs": [
    {
     "data": {
      "text/plain": [
       "('Ricky', 3)"
      ]
     },
     "execution_count": 20,
     "metadata": {},
     "output_type": "execute_result"
    }
   ],
   "source": [
    "list3[0][1], list3[1][2]"
   ]
  },
  {
   "cell_type": "code",
   "execution_count": 26,
   "id": "7a665375-c401-42d6-b875-ae3e7051b840",
   "metadata": {},
   "outputs": [
    {
     "name": "stdout",
     "output_type": "stream",
     "text": [
      "['Pineapple', 'apple', 'banana', 'mango']\n"
     ]
    }
   ],
   "source": [
    "itemlist=['Orange','apple','banana','mango']\n",
    "itemlist[0]='Pineapple'\n",
    "print(itemlist)"
   ]
  },
  {
   "cell_type": "markdown",
   "id": "0a236435-d6c9-47ae-bbb1-e194b76d687d",
   "metadata": {},
   "source": [
    "## Tuple\n"
   ]
  },
  {
   "cell_type": "code",
   "execution_count": 22,
   "id": "4b8a3bdf-b128-4f94-bb0b-9447d658624b",
   "metadata": {},
   "outputs": [
    {
     "data": {
      "text/plain": [
       "tuple"
      ]
     },
     "execution_count": 22,
     "metadata": {},
     "output_type": "execute_result"
    }
   ],
   "source": [
    "tuple1= ('Orange','apple','banana','mango')\n",
    "type(tuple1)"
   ]
  },
  {
   "cell_type": "code",
   "execution_count": 27,
   "id": "020932d0-d677-400a-9d65-89223a29ddc3",
   "metadata": {},
   "outputs": [
    {
     "name": "stdout",
     "output_type": "stream",
     "text": [
      "['Orange', 'apple', 'banana', 'mango']\n"
     ]
    }
   ],
   "source": [
    "tuple1= ('Orange','apple','banana','mango')\n",
    "my_list=list(tuple1)\n",
    "print(my_list)"
   ]
  },
  {
   "cell_type": "markdown",
   "id": "a0484c08-4a37-48c7-8127-f299fdaacf7c",
   "metadata": {},
   "source": [
    "## Set"
   ]
  },
  {
   "cell_type": "code",
   "execution_count": 28,
   "id": "ade83f49-6259-4bd4-b9ad-e39e9c98e6c7",
   "metadata": {},
   "outputs": [],
   "source": [
    "x={1,2,3,4,5,3,2}"
   ]
  },
  {
   "cell_type": "code",
   "execution_count": 29,
   "id": "783a7cbe-d6b9-4885-9d59-c80cc8e22ae7",
   "metadata": {},
   "outputs": [
    {
     "name": "stdout",
     "output_type": "stream",
     "text": [
      "{1, 2, 3, 4, 5}\n"
     ]
    }
   ],
   "source": [
    "print(x)"
   ]
  },
  {
   "cell_type": "code",
   "execution_count": 30,
   "id": "b97ebd5a-b844-4203-b237-577eeab0e9d0",
   "metadata": {},
   "outputs": [
    {
     "data": {
      "text/plain": [
       "set"
      ]
     },
     "execution_count": 30,
     "metadata": {},
     "output_type": "execute_result"
    }
   ],
   "source": [
    "type(x)"
   ]
  },
  {
   "cell_type": "code",
   "execution_count": 31,
   "id": "eeb7f837-35c2-4d52-98c0-76f4f6a5b878",
   "metadata": {},
   "outputs": [],
   "source": [
    "y={7,8,3,2}"
   ]
  },
  {
   "cell_type": "code",
   "execution_count": 34,
   "id": "32c20080-ee14-401f-8ed5-04b4ad9633b9",
   "metadata": {},
   "outputs": [
    {
     "name": "stdout",
     "output_type": "stream",
     "text": [
      "{1, 2, 3, 4, 5, 'Otieno', 'Peter', 'Alfred', 'Ricky'}\n"
     ]
    }
   ],
   "source": [
    "#update\n",
    "x={1,2,3,4,5,3,2}\n",
    "y={'Alfred', 'Ricky','Otieno','Peter'}\n",
    "set_update= x.update(y)\n",
    "print(x)"
   ]
  },
  {
   "cell_type": "code",
   "execution_count": 35,
   "id": "4c6f1ccb-f01a-434a-95d1-e89981258edf",
   "metadata": {},
   "outputs": [
    {
     "data": {
      "text/plain": [
       "{1, 2, 3, 4, 5}"
      ]
     },
     "execution_count": 35,
     "metadata": {},
     "output_type": "execute_result"
    }
   ],
   "source": [
    "x.difference(y)"
   ]
  },
  {
   "cell_type": "code",
   "execution_count": 36,
   "id": "e2bd7d6a-16ac-430a-9777-b8360d7defa7",
   "metadata": {},
   "outputs": [
    {
     "data": {
      "text/plain": [
       "{1, 2, 3, 4, 5, 'Alfred', 'Otieno', 'Peter', 'Ricky'}"
      ]
     },
     "execution_count": 36,
     "metadata": {},
     "output_type": "execute_result"
    }
   ],
   "source": [
    "x.union(y)"
   ]
  },
  {
   "cell_type": "code",
   "execution_count": null,
   "id": "d129dcc5-a1e2-4d10-94f3-769992813c88",
   "metadata": {},
   "outputs": [],
   "source": []
  }
 ],
 "metadata": {
  "kernelspec": {
   "display_name": "Python 3 (ipykernel)",
   "language": "python",
   "name": "python3"
  },
  "language_info": {
   "codemirror_mode": {
    "name": "ipython",
    "version": 3
   },
   "file_extension": ".py",
   "mimetype": "text/x-python",
   "name": "python",
   "nbconvert_exporter": "python",
   "pygments_lexer": "ipython3",
   "version": "3.12.3"
  }
 },
 "nbformat": 4,
 "nbformat_minor": 5
}
